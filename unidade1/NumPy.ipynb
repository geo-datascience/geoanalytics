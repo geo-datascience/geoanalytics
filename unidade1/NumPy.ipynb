{
 "cells": [
  {
   "cell_type": "markdown",
   "id": "c3d20cce-9d15-41c3-baab-df6e4c91e35f",
   "metadata": {},
   "source": [
    "# Introdução ao NumPy"
   ]
  },
  {
   "cell_type": "code",
   "execution_count": 30,
   "id": "2e19b913-0efa-44bc-87a0-2d495a82e5b9",
   "metadata": {
    "tags": []
   },
   "outputs": [],
   "source": [
    "import numpy as np"
   ]
  },
  {
   "cell_type": "markdown",
   "id": "b45141c6-0a19-43d5-917a-a22a0b5083cb",
   "metadata": {},
   "source": [
    "## Arrays"
   ]
  },
  {
   "cell_type": "code",
   "execution_count": 45,
   "id": "31feaffa-8023-41a8-a581-ed864754d4b8",
   "metadata": {
    "tags": []
   },
   "outputs": [],
   "source": [
    "a = np.array([1,2,3,4])"
   ]
  },
  {
   "cell_type": "code",
   "execution_count": 3,
   "id": "11f94afd-35b1-4e86-9413-536be612b9c1",
   "metadata": {
    "tags": []
   },
   "outputs": [
    {
     "data": {
      "text/plain": [
       "array([1, 2, 3, 4])"
      ]
     },
     "execution_count": 3,
     "metadata": {},
     "output_type": "execute_result"
    }
   ],
   "source": [
    "a"
   ]
  },
  {
   "cell_type": "code",
   "execution_count": 4,
   "id": "6f28836e-f05f-459f-a2cf-edca51856aa1",
   "metadata": {
    "tags": []
   },
   "outputs": [
    {
     "data": {
      "text/plain": [
       "numpy.ndarray"
      ]
     },
     "execution_count": 4,
     "metadata": {},
     "output_type": "execute_result"
    }
   ],
   "source": [
    "type(a)"
   ]
  },
  {
   "cell_type": "code",
   "execution_count": 5,
   "id": "b7df7b48-26c9-4bc5-8697-27c2ef47109f",
   "metadata": {
    "tags": []
   },
   "outputs": [
    {
     "data": {
      "text/plain": [
       "1"
      ]
     },
     "execution_count": 5,
     "metadata": {},
     "output_type": "execute_result"
    }
   ],
   "source": [
    "a.ndim"
   ]
  },
  {
   "cell_type": "code",
   "execution_count": 48,
   "id": "a1583bf4-4dc4-4b61-ae6a-34cc712fc5b0",
   "metadata": {
    "tags": []
   },
   "outputs": [
    {
     "name": "stdout",
     "output_type": "stream",
     "text": [
      "2\n",
      "[2 3]\n"
     ]
    }
   ],
   "source": [
    "print(a[1])\n",
    "print(a[1:3])"
   ]
  },
  {
   "cell_type": "markdown",
   "id": "f5253455-166a-4195-88b0-1809fe1c92e5",
   "metadata": {},
   "source": [
    "## Array vs Listas"
   ]
  },
  {
   "cell_type": "code",
   "execution_count": 67,
   "id": "7eefe50c-55fc-4664-a283-c047dd5bd87a",
   "metadata": {
    "tags": []
   },
   "outputs": [
    {
     "name": "stdout",
     "output_type": "stream",
     "text": [
      "[1, 2, 3, 4, 1, 2, 3, 4]\n"
     ]
    }
   ],
   "source": [
    "lista = [1,2,3,4]\n",
    "print(lista * 2)"
   ]
  },
  {
   "cell_type": "code",
   "execution_count": 69,
   "id": "1f5cd868-0545-4259-88f7-1e158e5d3f70",
   "metadata": {
    "tags": []
   },
   "outputs": [
    {
     "name": "stdout",
     "output_type": "stream",
     "text": [
      "[2 4 6 8]\n"
     ]
    }
   ],
   "source": [
    "array = np.array([1,2,3,4])\n",
    "print(array * 2)"
   ]
  },
  {
   "cell_type": "code",
   "execution_count": 72,
   "id": "f7ef0f98-c913-4760-a8ee-21040a536ea8",
   "metadata": {
    "tags": []
   },
   "outputs": [
    {
     "data": {
      "text/plain": [
       "array([23.73866213, 28.02768166, 39.18367347, 26.29656684])"
      ]
     },
     "execution_count": 72,
     "metadata": {},
     "output_type": "execute_result"
    }
   ],
   "source": [
    "# Cálculo de IMC\n",
    "peso = np.array([67,81,120,90])\n",
    "altura = np.array([1.68,1.70,1.75,1.85])\n",
    "peso / altura ** 2"
   ]
  },
  {
   "cell_type": "markdown",
   "id": "e1d659ad-a82f-4d79-94e5-8b1a887949ac",
   "metadata": {},
   "source": [
    "## Matrizes"
   ]
  },
  {
   "cell_type": "code",
   "execution_count": 50,
   "id": "8b2cbbb2-98a1-45e1-b9b8-73120e33c514",
   "metadata": {
    "tags": []
   },
   "outputs": [],
   "source": [
    "b = np.array([(1,2,3),(4,5,6)])"
   ]
  },
  {
   "cell_type": "code",
   "execution_count": 8,
   "id": "1a1cc4ac-f04f-4ead-98de-ad7ca3ee025c",
   "metadata": {
    "tags": []
   },
   "outputs": [
    {
     "data": {
      "text/plain": [
       "numpy.ndarray"
      ]
     },
     "execution_count": 8,
     "metadata": {},
     "output_type": "execute_result"
    }
   ],
   "source": [
    "type(b)"
   ]
  },
  {
   "cell_type": "code",
   "execution_count": 93,
   "id": "46501ac3-7cf2-46c7-ad0a-7da3126b38f5",
   "metadata": {
    "tags": []
   },
   "outputs": [
    {
     "data": {
      "text/plain": [
       "2"
      ]
     },
     "execution_count": 93,
     "metadata": {},
     "output_type": "execute_result"
    }
   ],
   "source": [
    "b.ndim"
   ]
  },
  {
   "cell_type": "code",
   "execution_count": 73,
   "id": "4fc03d19-72fc-4056-8a6f-053ce4def3ed",
   "metadata": {
    "tags": []
   },
   "outputs": [
    {
     "data": {
      "text/plain": [
       "(2, 3)"
      ]
     },
     "execution_count": 73,
     "metadata": {},
     "output_type": "execute_result"
    }
   ],
   "source": [
    "b.shape"
   ]
  },
  {
   "cell_type": "code",
   "execution_count": 74,
   "id": "316a26c1-261d-47bc-8778-210922527605",
   "metadata": {
    "tags": []
   },
   "outputs": [
    {
     "data": {
      "text/plain": [
       "6"
      ]
     },
     "execution_count": 74,
     "metadata": {},
     "output_type": "execute_result"
    }
   ],
   "source": [
    "b.size"
   ]
  },
  {
   "cell_type": "code",
   "execution_count": 76,
   "id": "d3ef90b1-c849-4471-ba57-ac738e44811e",
   "metadata": {
    "tags": []
   },
   "outputs": [
    {
     "data": {
      "text/plain": [
       "6"
      ]
     },
     "execution_count": 76,
     "metadata": {},
     "output_type": "execute_result"
    }
   ],
   "source": [
    "b.max()"
   ]
  },
  {
   "cell_type": "code",
   "execution_count": 77,
   "id": "0a59bf84-0017-445e-a20e-b385e6bb65e8",
   "metadata": {
    "tags": []
   },
   "outputs": [
    {
     "data": {
      "text/plain": [
       "1"
      ]
     },
     "execution_count": 77,
     "metadata": {},
     "output_type": "execute_result"
    }
   ],
   "source": [
    "b.min()"
   ]
  },
  {
   "cell_type": "code",
   "execution_count": 78,
   "id": "5b95113b-59d9-47f1-a62a-41b6aa41a808",
   "metadata": {
    "tags": []
   },
   "outputs": [
    {
     "data": {
      "text/plain": [
       "3.5"
      ]
     },
     "execution_count": 78,
     "metadata": {},
     "output_type": "execute_result"
    }
   ],
   "source": [
    "b.mean()"
   ]
  },
  {
   "cell_type": "code",
   "execution_count": 79,
   "id": "f4c6784d-120f-4948-8733-0232355d6fb4",
   "metadata": {
    "tags": []
   },
   "outputs": [
    {
     "data": {
      "text/plain": [
       "1.707825127659933"
      ]
     },
     "execution_count": 79,
     "metadata": {},
     "output_type": "execute_result"
    }
   ],
   "source": [
    "b.std()"
   ]
  },
  {
   "cell_type": "code",
   "execution_count": 80,
   "id": "ac7aa7ba-2af4-4308-a914-8f5f7fa6a839",
   "metadata": {
    "tags": []
   },
   "outputs": [
    {
     "data": {
      "text/plain": [
       "21"
      ]
     },
     "execution_count": 80,
     "metadata": {},
     "output_type": "execute_result"
    }
   ],
   "source": [
    "b.sum()"
   ]
  },
  {
   "cell_type": "code",
   "execution_count": 56,
   "id": "ee1bf478-8680-42a6-96a6-47a38651cc72",
   "metadata": {
    "tags": []
   },
   "outputs": [
    {
     "name": "stdout",
     "output_type": "stream",
     "text": [
      "[[1 2 3]\n",
      " [4 5 6]]\n",
      "[2 5]\n",
      "[1 2 3]\n"
     ]
    }
   ],
   "source": [
    "print(b)\n",
    "print(b[:,1])\n",
    "print(b[0,:])"
   ]
  },
  {
   "cell_type": "code",
   "execution_count": 39,
   "id": "19ab3498-6b1a-40c3-a83c-579ecb9b207c",
   "metadata": {
    "tags": []
   },
   "outputs": [
    {
     "name": "stdout",
     "output_type": "stream",
     "text": [
      "int64\n"
     ]
    }
   ],
   "source": [
    "print(np.dtype(b[1,1]))"
   ]
  },
  {
   "cell_type": "code",
   "execution_count": 11,
   "id": "e10d5cbd-7fd6-4752-b413-7cd3e846d981",
   "metadata": {
    "tags": []
   },
   "outputs": [],
   "source": [
    "c = np.random.random((5,2))"
   ]
  },
  {
   "cell_type": "code",
   "execution_count": 34,
   "id": "451599f8-ed89-4a6f-b39d-6916f8d6d1bf",
   "metadata": {
    "tags": []
   },
   "outputs": [
    {
     "data": {
      "text/plain": [
       "array([[0.25930249, 0.03148999],\n",
       "       [0.07989172, 0.03022459],\n",
       "       [0.57539877, 0.27286237],\n",
       "       [0.23780135, 0.78412124],\n",
       "       [0.27748232, 0.05903038]])"
      ]
     },
     "execution_count": 34,
     "metadata": {},
     "output_type": "execute_result"
    }
   ],
   "source": [
    "c"
   ]
  },
  {
   "cell_type": "code",
   "execution_count": 37,
   "id": "af37dc6a-fc74-42aa-a8d7-7b27b997f26a",
   "metadata": {
    "tags": []
   },
   "outputs": [
    {
     "data": {
      "text/plain": [
       "0.03022459069913841"
      ]
     },
     "execution_count": 37,
     "metadata": {},
     "output_type": "execute_result"
    }
   ],
   "source": [
    "c[1,1]"
   ]
  },
  {
   "cell_type": "code",
   "execution_count": 38,
   "id": "ff9b18cc-32bf-487e-aea6-4e10f0c66b84",
   "metadata": {
    "tags": []
   },
   "outputs": [
    {
     "name": "stdout",
     "output_type": "stream",
     "text": [
      "float64\n"
     ]
    }
   ],
   "source": [
    "print(np.dtype(c[1,1]))"
   ]
  },
  {
   "cell_type": "code",
   "execution_count": 52,
   "id": "c7f26b98-214e-449e-9538-f09b30cac004",
   "metadata": {
    "tags": []
   },
   "outputs": [],
   "source": [
    "b2 = np.array([(1,2,3),(4,5,6)], np.float64)"
   ]
  },
  {
   "cell_type": "code",
   "execution_count": 53,
   "id": "7ae1b6f7-984e-4b77-910e-de1bec48e276",
   "metadata": {
    "tags": []
   },
   "outputs": [
    {
     "name": "stdout",
     "output_type": "stream",
     "text": [
      "[[1. 2. 3.]\n",
      " [4. 5. 6.]]\n",
      "float64\n"
     ]
    }
   ],
   "source": [
    "print(b2)\n",
    "print(np.dtype(b2[1,1]))"
   ]
  },
  {
   "cell_type": "code",
   "execution_count": 18,
   "id": "49e5e34e-eb4a-41c1-b3d1-bf9aa2665edb",
   "metadata": {
    "tags": []
   },
   "outputs": [],
   "source": [
    "d = np.arange(10,50,5)"
   ]
  },
  {
   "cell_type": "code",
   "execution_count": 19,
   "id": "c1374b41-3864-4950-8d87-831cc8562723",
   "metadata": {
    "tags": []
   },
   "outputs": [
    {
     "data": {
      "text/plain": [
       "array([10, 15, 20, 25, 30, 35, 40, 45])"
      ]
     },
     "execution_count": 19,
     "metadata": {},
     "output_type": "execute_result"
    }
   ],
   "source": [
    "d"
   ]
  },
  {
   "cell_type": "code",
   "execution_count": 21,
   "id": "cb3e64c6-40d9-4fef-bc92-e43637501936",
   "metadata": {
    "tags": []
   },
   "outputs": [
    {
     "data": {
      "text/plain": [
       "array([  1.,  12.,  23.,  34.,  45.,  56.,  67.,  78.,  89., 100.])"
      ]
     },
     "execution_count": 21,
     "metadata": {},
     "output_type": "execute_result"
    }
   ],
   "source": [
    "np.linspace(1,100,10)"
   ]
  },
  {
   "cell_type": "code",
   "execution_count": 23,
   "id": "c01ebd89-0b62-4e94-96db-acde5b7c5cfe",
   "metadata": {
    "tags": []
   },
   "outputs": [
    {
     "data": {
      "text/plain": [
       "(5, 2)"
      ]
     },
     "execution_count": 23,
     "metadata": {},
     "output_type": "execute_result"
    }
   ],
   "source": [
    "c.shape"
   ]
  },
  {
   "cell_type": "markdown",
   "id": "ca84813c-ff65-4f83-9f89-14bb894b4f69",
   "metadata": {
    "tags": []
   },
   "source": [
    "c.ndim"
   ]
  },
  {
   "cell_type": "code",
   "execution_count": 57,
   "id": "06ea5e5b-c2c3-43c7-aa41-2407c965d3fb",
   "metadata": {
    "tags": []
   },
   "outputs": [
    {
     "data": {
      "text/plain": [
       "array([[0., 0., 0., 0.],\n",
       "       [0., 0., 0., 0.],\n",
       "       [0., 0., 0., 0.]])"
      ]
     },
     "execution_count": 57,
     "metadata": {},
     "output_type": "execute_result"
    }
   ],
   "source": [
    "np.zeros((3,4))"
   ]
  },
  {
   "cell_type": "code",
   "execution_count": 58,
   "id": "89722bbd-30c1-4c36-87db-9731b0b9771f",
   "metadata": {
    "tags": []
   },
   "outputs": [
    {
     "data": {
      "text/plain": [
       "array([[1., 1., 1., 1., 1.],\n",
       "       [1., 1., 1., 1., 1.],\n",
       "       [1., 1., 1., 1., 1.],\n",
       "       [1., 1., 1., 1., 1.]])"
      ]
     },
     "execution_count": 58,
     "metadata": {},
     "output_type": "execute_result"
    }
   ],
   "source": [
    "np.ones((4,5))"
   ]
  },
  {
   "cell_type": "code",
   "execution_count": 60,
   "id": "1c0f0037-0853-4e6d-a7a5-94479e293655",
   "metadata": {
    "tags": []
   },
   "outputs": [
    {
     "data": {
      "text/plain": [
       "array([[9, 9, 9, 9],\n",
       "       [9, 9, 9, 9],\n",
       "       [9, 9, 9, 9],\n",
       "       [9, 9, 9, 9]])"
      ]
     },
     "execution_count": 60,
     "metadata": {},
     "output_type": "execute_result"
    }
   ],
   "source": [
    "np.full((4,4),9)"
   ]
  },
  {
   "cell_type": "code",
   "execution_count": 66,
   "id": "af9e9a75-8ec9-4500-961f-30cc14483ed3",
   "metadata": {
    "tags": []
   },
   "outputs": [
    {
     "name": "stdout",
     "output_type": "stream",
     "text": [
      "[[-0.62029206 -1.89003744  1.96988629 -0.17613239]\n",
      " [-0.82024793  0.98318404  2.36567609 -0.48307416]\n",
      " [-0.58306283  0.52677657 -1.25415702  1.11095268]]\n",
      "[[ True  True False  True]\n",
      " [ True False False  True]\n",
      " [ True False  True False]]\n"
     ]
    }
   ],
   "source": [
    "ar = np.random.randn(3,4)\n",
    "print(ar)\n",
    "arb = ar < 0\n",
    "print(arb)"
   ]
  },
  {
   "cell_type": "markdown",
   "id": "65f6e869-7aef-4b44-8820-c24a2ffc008e",
   "metadata": {},
   "source": [
    "## Operações com Matrizes"
   ]
  },
  {
   "cell_type": "code",
   "execution_count": 81,
   "id": "2ed971d1-f93e-4387-b2f6-9d4ce3020ae4",
   "metadata": {
    "tags": []
   },
   "outputs": [
    {
     "name": "stdout",
     "output_type": "stream",
     "text": [
      "[[2 4 6 8]\n",
      " [8 6 4 2]]\n",
      "[[0 0 0 0]\n",
      " [0 0 0 0]]\n",
      "[[ 1  4  9 16]\n",
      " [16  9  4  1]]\n",
      "[[1. 1. 1. 1.]\n",
      " [1. 1. 1. 1.]]\n"
     ]
    }
   ],
   "source": [
    "a = np.array([[1,2,3,4],[4,3,2,1]])\n",
    "b = np.array([[1,2,3,4],[4,3,2,1]])\n",
    "print(a+b)\n",
    "print(a-b)\n",
    "print(a*b)\n",
    "print(a/b)"
   ]
  },
  {
   "cell_type": "code",
   "execution_count": 28,
   "id": "279785dc-89aa-438c-899e-e503ac280325",
   "metadata": {
    "tags": []
   },
   "outputs": [
    {
     "data": {
      "text/plain": [
       "array([[2, 4, 6, 8],\n",
       "       [8, 6, 4, 2]])"
      ]
     },
     "execution_count": 28,
     "metadata": {},
     "output_type": "execute_result"
    }
   ],
   "source": [
    "a * 2"
   ]
  },
  {
   "cell_type": "code",
   "execution_count": 32,
   "id": "324aa4d4-f2f7-4d5d-8969-4175226ae748",
   "metadata": {
    "tags": []
   },
   "outputs": [
    {
     "name": "stdout",
     "output_type": "stream",
     "text": [
      "[[1 2 3 4]\n",
      " [4 3 2 1]]\n",
      "20\n",
      "[5 5 5 5]\n",
      "[10 10]\n"
     ]
    }
   ],
   "source": [
    "print(a)\n",
    "print(np.sum(a))\n",
    "print(np.sum(a, axis=0))\n",
    "print(np.sum(a, axis=1))"
   ]
  },
  {
   "cell_type": "code",
   "execution_count": 82,
   "id": "7bcc550f-e361-4a0f-81ac-c77b9cb616cb",
   "metadata": {
    "tags": []
   },
   "outputs": [
    {
     "data": {
      "text/plain": [
       "array([[1, 4],\n",
       "       [2, 3],\n",
       "       [3, 2],\n",
       "       [4, 1]])"
      ]
     },
     "execution_count": 82,
     "metadata": {},
     "output_type": "execute_result"
    }
   ],
   "source": [
    "a.T"
   ]
  },
  {
   "cell_type": "code",
   "execution_count": 83,
   "id": "254b45d5-0128-4786-a087-e16eceea6061",
   "metadata": {
    "tags": []
   },
   "outputs": [
    {
     "data": {
      "text/plain": [
       "array([1, 2, 3, 4, 4, 3, 2, 1])"
      ]
     },
     "execution_count": 83,
     "metadata": {},
     "output_type": "execute_result"
    }
   ],
   "source": [
    "a.reshape(-1)"
   ]
  },
  {
   "cell_type": "code",
   "execution_count": 84,
   "id": "fd243bfd-0fd0-4d9a-a260-9ece8628117c",
   "metadata": {
    "tags": []
   },
   "outputs": [],
   "source": [
    "tree = np.random.random((5,3))"
   ]
  },
  {
   "cell_type": "code",
   "execution_count": 85,
   "id": "dbb498bf-6a4b-45b3-8f4b-674ac51fb19e",
   "metadata": {
    "tags": []
   },
   "outputs": [
    {
     "data": {
      "text/plain": [
       "array([[0.19878466, 0.85197701, 0.63891804],\n",
       "       [0.989476  , 0.91048023, 0.4769858 ],\n",
       "       [0.70298858, 0.81662286, 0.61363141],\n",
       "       [0.24986852, 0.17178161, 0.19917692],\n",
       "       [0.03997446, 0.60343388, 0.16429987]])"
      ]
     },
     "execution_count": 85,
     "metadata": {},
     "output_type": "execute_result"
    }
   ],
   "source": [
    "tree"
   ]
  },
  {
   "cell_type": "code",
   "execution_count": 89,
   "id": "0f15ab8b-f934-4195-b1e6-c9abc2b38833",
   "metadata": {
    "tags": []
   },
   "outputs": [
    {
     "data": {
      "text/plain": [
       "array([[0.19878466, 0.85197701, 0.63891804, 0.989476  , 0.91048023],\n",
       "       [0.4769858 , 0.70298858, 0.81662286, 0.61363141, 0.24986852],\n",
       "       [0.17178161, 0.19917692, 0.03997446, 0.60343388, 0.16429987]])"
      ]
     },
     "execution_count": 89,
     "metadata": {},
     "output_type": "execute_result"
    }
   ],
   "source": [
    "tree.reshape(3,5)"
   ]
  },
  {
   "cell_type": "markdown",
   "id": "cf0f3297-aa46-4333-8ed0-6f5ed61c45cd",
   "metadata": {},
   "source": [
    "## Arquivos de Texto"
   ]
  },
  {
   "cell_type": "code",
   "execution_count": 90,
   "id": "96b13941-1dd1-4476-8d50-ad467b097f0d",
   "metadata": {
    "tags": []
   },
   "outputs": [],
   "source": [
    "np.savetxt(\"matriz1.txt\",tree, delimiter=',')"
   ]
  },
  {
   "cell_type": "code",
   "execution_count": 91,
   "id": "b307f912-6c7c-4c4a-b35d-424f4f9eda48",
   "metadata": {
    "tags": []
   },
   "outputs": [],
   "source": [
    "dataset = np.loadtxt('matriz1.txt', delimiter=',')"
   ]
  },
  {
   "cell_type": "code",
   "execution_count": 92,
   "id": "081c836d-5a59-4734-9862-7bbb65e6416e",
   "metadata": {
    "tags": []
   },
   "outputs": [
    {
     "data": {
      "text/plain": [
       "array([[0.19878466, 0.85197701, 0.63891804],\n",
       "       [0.989476  , 0.91048023, 0.4769858 ],\n",
       "       [0.70298858, 0.81662286, 0.61363141],\n",
       "       [0.24986852, 0.17178161, 0.19917692],\n",
       "       [0.03997446, 0.60343388, 0.16429987]])"
      ]
     },
     "execution_count": 92,
     "metadata": {},
     "output_type": "execute_result"
    }
   ],
   "source": [
    "dataset"
   ]
  },
  {
   "cell_type": "code",
   "execution_count": null,
   "id": "37bc060b-f2d8-481b-9d28-d4b4e17268d4",
   "metadata": {},
   "outputs": [],
   "source": []
  }
 ],
 "metadata": {
  "kernelspec": {
   "display_name": "Python 3 (ipykernel)",
   "language": "python",
   "name": "python3"
  },
  "language_info": {
   "codemirror_mode": {
    "name": "ipython",
    "version": 3
   },
   "file_extension": ".py",
   "mimetype": "text/x-python",
   "name": "python",
   "nbconvert_exporter": "python",
   "pygments_lexer": "ipython3",
   "version": "3.10.10"
  }
 },
 "nbformat": 4,
 "nbformat_minor": 5
}
