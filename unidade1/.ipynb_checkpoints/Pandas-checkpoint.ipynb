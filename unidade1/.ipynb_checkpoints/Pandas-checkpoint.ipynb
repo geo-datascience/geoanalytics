{
 "cells": [
  {
   "cell_type": "markdown",
   "id": "85010429-912a-4d68-aae2-befb26b37a91",
   "metadata": {},
   "source": [
    "# Introdução ao Pandas"
   ]
  },
  {
   "cell_type": "code",
   "execution_count": 1,
   "id": "287df450-5351-4086-a285-a9678ac6e80d",
   "metadata": {
    "tags": []
   },
   "outputs": [],
   "source": [
    "import pandas as pd\n",
    "import numpy as np"
   ]
  },
  {
   "cell_type": "markdown",
   "id": "f267c001-20fc-434d-81dc-588543c50f2a",
   "metadata": {},
   "source": [
    "## Series"
   ]
  },
  {
   "cell_type": "code",
   "execution_count": 2,
   "id": "3d0d5b0a-ca4b-4d9d-b4f3-574ccbd89ece",
   "metadata": {
    "tags": []
   },
   "outputs": [
    {
     "data": {
      "text/plain": [
       "0    1.0\n",
       "1    3.0\n",
       "2    4.6\n",
       "3    3.0\n",
       "4    2.0\n",
       "5    6.0\n",
       "dtype: float64"
      ]
     },
     "execution_count": 2,
     "metadata": {},
     "output_type": "execute_result"
    }
   ],
   "source": [
    "col1 = pd.Series([1,3,4.6,3,2,6])\n",
    "col1"
   ]
  },
  {
   "cell_type": "code",
   "execution_count": 3,
   "id": "e6c307cb-ebab-4b9e-8f6d-4e1458bd0069",
   "metadata": {
    "tags": []
   },
   "outputs": [
    {
     "data": {
      "text/plain": [
       "0      Active\n",
       "1      Active\n",
       "2      Active\n",
       "3    Inactive\n",
       "4    Inactive\n",
       "5    Inactive\n",
       "dtype: object"
      ]
     },
     "execution_count": 3,
     "metadata": {},
     "output_type": "execute_result"
    }
   ],
   "source": [
    "col2 = pd.Series([\"Active\"]*3 + [\"Inactive\"]*3)\n",
    "col2"
   ]
  },
  {
   "cell_type": "code",
   "execution_count": 4,
   "id": "54f045a7-4447-4a0a-851f-7a07ed578095",
   "metadata": {
    "tags": []
   },
   "outputs": [
    {
     "data": {
      "text/plain": [
       "0    5\n",
       "1    4\n",
       "2    3\n",
       "3    2\n",
       "4    1\n",
       "5    0\n",
       "dtype: int64"
      ]
     },
     "execution_count": 4,
     "metadata": {},
     "output_type": "execute_result"
    }
   ],
   "source": [
    "col3 = pd.Series(range(5,-1,-1))\n",
    "col3"
   ]
  },
  {
   "cell_type": "code",
   "execution_count": 5,
   "id": "9773f178-75e4-4273-afbc-7dc264ac89e7",
   "metadata": {
    "tags": []
   },
   "outputs": [
    {
     "data": {
      "text/plain": [
       "0    0.770449\n",
       "1    0.725363\n",
       "2    1.346626\n",
       "3    0.693252\n",
       "4    0.284928\n",
       "5    0.958715\n",
       "dtype: float64"
      ]
     },
     "execution_count": 5,
     "metadata": {},
     "output_type": "execute_result"
    }
   ],
   "source": [
    "col4 = pd.Series(np.random.vonmises(1,7,6))\n",
    "col4"
   ]
  },
  {
   "cell_type": "markdown",
   "id": "033bc7ea-0450-47a1-99e6-2da900243d7f",
   "metadata": {},
   "source": [
    "## DataFrame"
   ]
  },
  {
   "cell_type": "code",
   "execution_count": 6,
   "id": "400db0dc-b239-4611-b68b-370b9c9f03d8",
   "metadata": {
    "tags": []
   },
   "outputs": [
    {
     "data": {
      "text/html": [
       "<div>\n",
       "<style scoped>\n",
       "    .dataframe tbody tr th:only-of-type {\n",
       "        vertical-align: middle;\n",
       "    }\n",
       "\n",
       "    .dataframe tbody tr th {\n",
       "        vertical-align: top;\n",
       "    }\n",
       "\n",
       "    .dataframe thead th {\n",
       "        text-align: right;\n",
       "    }\n",
       "</style>\n",
       "<table border=\"1\" class=\"dataframe\">\n",
       "  <thead>\n",
       "    <tr style=\"text-align: right;\">\n",
       "      <th></th>\n",
       "      <th>0</th>\n",
       "      <th>1</th>\n",
       "      <th>2</th>\n",
       "      <th>3</th>\n",
       "      <th>4</th>\n",
       "      <th>5</th>\n",
       "    </tr>\n",
       "  </thead>\n",
       "  <tbody>\n",
       "    <tr>\n",
       "      <th>List</th>\n",
       "      <td>1.0</td>\n",
       "      <td>3.0</td>\n",
       "      <td>4.6</td>\n",
       "      <td>3.0</td>\n",
       "      <td>2.0</td>\n",
       "      <td>6.0</td>\n",
       "    </tr>\n",
       "    <tr>\n",
       "      <th>String</th>\n",
       "      <td>Active</td>\n",
       "      <td>Active</td>\n",
       "      <td>Active</td>\n",
       "      <td>Inactive</td>\n",
       "      <td>Inactive</td>\n",
       "      <td>Inactive</td>\n",
       "    </tr>\n",
       "    <tr>\n",
       "      <th>Range</th>\n",
       "      <td>5</td>\n",
       "      <td>4</td>\n",
       "      <td>3</td>\n",
       "      <td>2</td>\n",
       "      <td>1</td>\n",
       "      <td>0</td>\n",
       "    </tr>\n",
       "    <tr>\n",
       "      <th>Random</th>\n",
       "      <td>0.770449</td>\n",
       "      <td>0.725363</td>\n",
       "      <td>1.346626</td>\n",
       "      <td>0.693252</td>\n",
       "      <td>0.284928</td>\n",
       "      <td>0.958715</td>\n",
       "    </tr>\n",
       "  </tbody>\n",
       "</table>\n",
       "</div>"
      ],
      "text/plain": [
       "               0         1         2         3         4         5\n",
       "List         1.0       3.0       4.6       3.0       2.0       6.0\n",
       "String    Active    Active    Active  Inactive  Inactive  Inactive\n",
       "Range          5         4         3         2         1         0\n",
       "Random  0.770449  0.725363  1.346626  0.693252  0.284928  0.958715"
      ]
     },
     "execution_count": 6,
     "metadata": {},
     "output_type": "execute_result"
    }
   ],
   "source": [
    "df = pd.DataFrame([col1, col2, col3, col4], index=[\"List\", \"String\", \"Range\", \"Random\"])\n",
    "df"
   ]
  },
  {
   "cell_type": "code",
   "execution_count": 7,
   "id": "ae3903c3-eb44-411b-ad85-57e1dead0f50",
   "metadata": {
    "tags": []
   },
   "outputs": [
    {
     "data": {
      "text/html": [
       "<div>\n",
       "<style scoped>\n",
       "    .dataframe tbody tr th:only-of-type {\n",
       "        vertical-align: middle;\n",
       "    }\n",
       "\n",
       "    .dataframe tbody tr th {\n",
       "        vertical-align: top;\n",
       "    }\n",
       "\n",
       "    .dataframe thead th {\n",
       "        text-align: right;\n",
       "    }\n",
       "</style>\n",
       "<table border=\"1\" class=\"dataframe\">\n",
       "  <thead>\n",
       "    <tr style=\"text-align: right;\">\n",
       "      <th></th>\n",
       "      <th>List</th>\n",
       "      <th>String</th>\n",
       "      <th>Range</th>\n",
       "      <th>Random</th>\n",
       "    </tr>\n",
       "  </thead>\n",
       "  <tbody>\n",
       "    <tr>\n",
       "      <th>0</th>\n",
       "      <td>1.0</td>\n",
       "      <td>Active</td>\n",
       "      <td>5</td>\n",
       "      <td>0.770449</td>\n",
       "    </tr>\n",
       "    <tr>\n",
       "      <th>1</th>\n",
       "      <td>3.0</td>\n",
       "      <td>Active</td>\n",
       "      <td>4</td>\n",
       "      <td>0.725363</td>\n",
       "    </tr>\n",
       "    <tr>\n",
       "      <th>2</th>\n",
       "      <td>4.6</td>\n",
       "      <td>Active</td>\n",
       "      <td>3</td>\n",
       "      <td>1.346626</td>\n",
       "    </tr>\n",
       "    <tr>\n",
       "      <th>3</th>\n",
       "      <td>3.0</td>\n",
       "      <td>Inactive</td>\n",
       "      <td>2</td>\n",
       "      <td>0.693252</td>\n",
       "    </tr>\n",
       "    <tr>\n",
       "      <th>4</th>\n",
       "      <td>2.0</td>\n",
       "      <td>Inactive</td>\n",
       "      <td>1</td>\n",
       "      <td>0.284928</td>\n",
       "    </tr>\n",
       "    <tr>\n",
       "      <th>5</th>\n",
       "      <td>6.0</td>\n",
       "      <td>Inactive</td>\n",
       "      <td>0</td>\n",
       "      <td>0.958715</td>\n",
       "    </tr>\n",
       "  </tbody>\n",
       "</table>\n",
       "</div>"
      ],
      "text/plain": [
       "  List    String Range    Random\n",
       "0  1.0    Active     5  0.770449\n",
       "1  3.0    Active     4  0.725363\n",
       "2  4.6    Active     3  1.346626\n",
       "3  3.0  Inactive     2  0.693252\n",
       "4  2.0  Inactive     1  0.284928\n",
       "5  6.0  Inactive     0  0.958715"
      ]
     },
     "execution_count": 7,
     "metadata": {},
     "output_type": "execute_result"
    }
   ],
   "source": [
    "df = pd.DataFrame.transpose(df)\n",
    "df"
   ]
  },
  {
   "cell_type": "code",
   "execution_count": 8,
   "id": "31f953c5-0df8-47ae-a82c-fa2f133abc67",
   "metadata": {
    "tags": []
   },
   "outputs": [
    {
     "data": {
      "text/html": [
       "<div>\n",
       "<style scoped>\n",
       "    .dataframe tbody tr th:only-of-type {\n",
       "        vertical-align: middle;\n",
       "    }\n",
       "\n",
       "    .dataframe tbody tr th {\n",
       "        vertical-align: top;\n",
       "    }\n",
       "\n",
       "    .dataframe thead th {\n",
       "        text-align: right;\n",
       "    }\n",
       "</style>\n",
       "<table border=\"1\" class=\"dataframe\">\n",
       "  <thead>\n",
       "    <tr style=\"text-align: right;\">\n",
       "      <th></th>\n",
       "      <th>List</th>\n",
       "      <th>String</th>\n",
       "      <th>Range</th>\n",
       "      <th>Random</th>\n",
       "    </tr>\n",
       "  </thead>\n",
       "  <tbody>\n",
       "    <tr>\n",
       "      <th>count</th>\n",
       "      <td>6.0</td>\n",
       "      <td>6</td>\n",
       "      <td>6</td>\n",
       "      <td>6.000000</td>\n",
       "    </tr>\n",
       "    <tr>\n",
       "      <th>unique</th>\n",
       "      <td>5.0</td>\n",
       "      <td>2</td>\n",
       "      <td>6</td>\n",
       "      <td>6.000000</td>\n",
       "    </tr>\n",
       "    <tr>\n",
       "      <th>top</th>\n",
       "      <td>3.0</td>\n",
       "      <td>Active</td>\n",
       "      <td>5</td>\n",
       "      <td>0.770449</td>\n",
       "    </tr>\n",
       "    <tr>\n",
       "      <th>freq</th>\n",
       "      <td>2.0</td>\n",
       "      <td>3</td>\n",
       "      <td>1</td>\n",
       "      <td>1.000000</td>\n",
       "    </tr>\n",
       "  </tbody>\n",
       "</table>\n",
       "</div>"
      ],
      "text/plain": [
       "        List  String  Range    Random\n",
       "count    6.0       6      6  6.000000\n",
       "unique   5.0       2      6  6.000000\n",
       "top      3.0  Active      5  0.770449\n",
       "freq     2.0       3      1  1.000000"
      ]
     },
     "execution_count": 8,
     "metadata": {},
     "output_type": "execute_result"
    }
   ],
   "source": [
    "df.describe()"
   ]
  },
  {
   "cell_type": "code",
   "execution_count": 9,
   "id": "9863e31f-ebfc-45bc-9291-5f018263b9d3",
   "metadata": {
    "tags": []
   },
   "outputs": [
    {
     "data": {
      "text/html": [
       "<div>\n",
       "<style scoped>\n",
       "    .dataframe tbody tr th:only-of-type {\n",
       "        vertical-align: middle;\n",
       "    }\n",
       "\n",
       "    .dataframe tbody tr th {\n",
       "        vertical-align: top;\n",
       "    }\n",
       "\n",
       "    .dataframe thead th {\n",
       "        text-align: right;\n",
       "    }\n",
       "</style>\n",
       "<table border=\"1\" class=\"dataframe\">\n",
       "  <thead>\n",
       "    <tr style=\"text-align: right;\">\n",
       "      <th></th>\n",
       "      <th>List</th>\n",
       "      <th>String</th>\n",
       "      <th>Range</th>\n",
       "      <th>Random</th>\n",
       "    </tr>\n",
       "  </thead>\n",
       "  <tbody>\n",
       "    <tr>\n",
       "      <th>4</th>\n",
       "      <td>2.0</td>\n",
       "      <td>Inactive</td>\n",
       "      <td>1</td>\n",
       "      <td>0.284928</td>\n",
       "    </tr>\n",
       "    <tr>\n",
       "      <th>3</th>\n",
       "      <td>3.0</td>\n",
       "      <td>Inactive</td>\n",
       "      <td>2</td>\n",
       "      <td>0.693252</td>\n",
       "    </tr>\n",
       "    <tr>\n",
       "      <th>1</th>\n",
       "      <td>3.0</td>\n",
       "      <td>Active</td>\n",
       "      <td>4</td>\n",
       "      <td>0.725363</td>\n",
       "    </tr>\n",
       "    <tr>\n",
       "      <th>0</th>\n",
       "      <td>1.0</td>\n",
       "      <td>Active</td>\n",
       "      <td>5</td>\n",
       "      <td>0.770449</td>\n",
       "    </tr>\n",
       "    <tr>\n",
       "      <th>5</th>\n",
       "      <td>6.0</td>\n",
       "      <td>Inactive</td>\n",
       "      <td>0</td>\n",
       "      <td>0.958715</td>\n",
       "    </tr>\n",
       "    <tr>\n",
       "      <th>2</th>\n",
       "      <td>4.6</td>\n",
       "      <td>Active</td>\n",
       "      <td>3</td>\n",
       "      <td>1.346626</td>\n",
       "    </tr>\n",
       "  </tbody>\n",
       "</table>\n",
       "</div>"
      ],
      "text/plain": [
       "  List    String Range    Random\n",
       "4  2.0  Inactive     1  0.284928\n",
       "3  3.0  Inactive     2  0.693252\n",
       "1  3.0    Active     4  0.725363\n",
       "0  1.0    Active     5  0.770449\n",
       "5  6.0  Inactive     0  0.958715\n",
       "2  4.6    Active     3  1.346626"
      ]
     },
     "execution_count": 9,
     "metadata": {},
     "output_type": "execute_result"
    }
   ],
   "source": [
    "df = df.sort_values(by='Random')\n",
    "df"
   ]
  },
  {
   "cell_type": "code",
   "execution_count": 10,
   "id": "24e035fc-5cea-43e8-9d7f-13e8cb57e236",
   "metadata": {
    "tags": []
   },
   "outputs": [
    {
     "data": {
      "text/plain": [
       "4    Inactive\n",
       "3    Inactive\n",
       "1      Active\n",
       "0      Active\n",
       "5    Inactive\n",
       "2      Active\n",
       "Name: String, dtype: object"
      ]
     },
     "execution_count": 10,
     "metadata": {},
     "output_type": "execute_result"
    }
   ],
   "source": [
    "df.String"
   ]
  },
  {
   "cell_type": "code",
   "execution_count": 11,
   "id": "3a9799c3-471d-4219-92a2-523cf8063590",
   "metadata": {
    "tags": []
   },
   "outputs": [
    {
     "name": "stderr",
     "output_type": "stream",
     "text": [
      "/tmp/ipykernel_51388/3698961737.py:1: FutureWarning: The default value of numeric_only in DataFrame.mean is deprecated. In a future version, it will default to False. In addition, specifying 'numeric_only=None' is deprecated. Select only valid columns or specify the value of numeric_only to silence this warning.\n",
      "  df.mean()\n"
     ]
    },
    {
     "data": {
      "text/plain": [
       "List      3.266667\n",
       "Range     2.500000\n",
       "Random    0.796555\n",
       "dtype: float64"
      ]
     },
     "execution_count": 11,
     "metadata": {},
     "output_type": "execute_result"
    }
   ],
   "source": [
    "df.mean()"
   ]
  },
  {
   "cell_type": "code",
   "execution_count": 12,
   "id": "5f691764-8f19-4735-8468-70f97443ef17",
   "metadata": {
    "tags": []
   },
   "outputs": [
    {
     "data": {
      "text/plain": [
       "<Axes: >"
      ]
     },
     "execution_count": 12,
     "metadata": {},
     "output_type": "execute_result"
    },
    {
     "data": {
      "image/png": "[encoded data removed]",
      "text/plain": [
       "<Figure size 640x480 with 1 Axes>"
      ]
     },
     "metadata": {},
     "output_type": "display_data"
    }
   ],
   "source": [
    "df.plot()"
   ]
  },
  {
   "cell_type": "markdown",
   "id": "66459070-34a5-491b-93b1-cff25ac792e5",
   "metadata": {},
   "source": [
    "## Ler Base de Dados"
   ]
  },
  {
   "cell_type": "code",
   "execution_count": 43,
   "id": "d21a8664-5bd8-4e35-b4b8-3421f3b9146a",
   "metadata": {
    "tags": []
   },
   "outputs": [],
   "source": [
    "arquivo = 'house_bh.csv'\n",
    "df_house = pd.read_csv(arquivo, sep=',', header=0)"
   ]
  },
  {
   "cell_type": "code",
   "execution_count": 14,
   "id": "c0bd35c0-3343-4554-baaf-50d48e8e824f",
   "metadata": {
    "tags": []
   },
   "outputs": [
    {
     "data": {
      "text/plain": [
       "pandas.core.frame.DataFrame"
      ]
     },
     "execution_count": 14,
     "metadata": {},
     "output_type": "execute_result"
    }
   ],
   "source": [
    "type(df_house)"
   ]
  },
  {
   "cell_type": "code",
   "execution_count": 15,
   "id": "c721f0de-a42d-4f21-973a-526aae629dea",
   "metadata": {
    "tags": []
   },
   "outputs": [
    {
     "data": {
      "text/html": [
       "<div>\n",
       "<style scoped>\n",
       "    .dataframe tbody tr th:only-of-type {\n",
       "        vertical-align: middle;\n",
       "    }\n",
       "\n",
       "    .dataframe tbody tr th {\n",
       "        vertical-align: top;\n",
       "    }\n",
       "\n",
       "    .dataframe thead th {\n",
       "        text-align: right;\n",
       "    }\n",
       "</style>\n",
       "<table border=\"1\" class=\"dataframe\">\n",
       "  <thead>\n",
       "    <tr style=\"text-align: right;\">\n",
       "      <th></th>\n",
       "      <th>address</th>\n",
       "      <th>adm-fees</th>\n",
       "      <th>garage-places</th>\n",
       "      <th>price</th>\n",
       "      <th>rooms</th>\n",
       "      <th>square-foot</th>\n",
       "      <th>neighborhood</th>\n",
       "      <th>city</th>\n",
       "      <th>latitude</th>\n",
       "      <th>longitude</th>\n",
       "    </tr>\n",
       "  </thead>\n",
       "  <tbody>\n",
       "    <tr>\n",
       "      <th>0</th>\n",
       "      <td>Avenida Raja Gabaglia, 1583</td>\n",
       "      <td>470.0</td>\n",
       "      <td>1</td>\n",
       "      <td>330000.0</td>\n",
       "      <td>1</td>\n",
       "      <td>40</td>\n",
       "      <td>Luxemburgo</td>\n",
       "      <td>Belo Horizonte</td>\n",
       "      <td>-19.936415</td>\n",
       "      <td>-43.953396</td>\n",
       "    </tr>\n",
       "    <tr>\n",
       "      <th>1</th>\n",
       "      <td>Rua Espírito Santo, 1171</td>\n",
       "      <td>NaN</td>\n",
       "      <td>1</td>\n",
       "      <td>480000.0</td>\n",
       "      <td>2</td>\n",
       "      <td>45-65</td>\n",
       "      <td>Centro</td>\n",
       "      <td>Belo Horizonte</td>\n",
       "      <td>-18.864776</td>\n",
       "      <td>-41.121777</td>\n",
       "    </tr>\n",
       "    <tr>\n",
       "      <th>2</th>\n",
       "      <td>Rua dos Expedicionários, 1082</td>\n",
       "      <td>NaN</td>\n",
       "      <td>5</td>\n",
       "      <td>1190000.0</td>\n",
       "      <td>4</td>\n",
       "      <td>411</td>\n",
       "      <td>Santa Amélia</td>\n",
       "      <td>Belo Horizonte</td>\n",
       "      <td>-20.225241</td>\n",
       "      <td>-44.397780</td>\n",
       "    </tr>\n",
       "    <tr>\n",
       "      <th>3</th>\n",
       "      <td>Rua Marechal Hermes, 81</td>\n",
       "      <td>750.0</td>\n",
       "      <td>4</td>\n",
       "      <td>1590000.0</td>\n",
       "      <td>4</td>\n",
       "      <td>158</td>\n",
       "      <td>Gutierrez</td>\n",
       "      <td>Belo Horizonte</td>\n",
       "      <td>-19.937155</td>\n",
       "      <td>-43.958694</td>\n",
       "    </tr>\n",
       "    <tr>\n",
       "      <th>4</th>\n",
       "      <td>Rua Juruna, 110</td>\n",
       "      <td>NaN</td>\n",
       "      <td>6</td>\n",
       "      <td>550000.0</td>\n",
       "      <td>3</td>\n",
       "      <td>278</td>\n",
       "      <td>Pindorama</td>\n",
       "      <td>Belo Horizonte</td>\n",
       "      <td>-19.912982</td>\n",
       "      <td>-44.019944</td>\n",
       "    </tr>\n",
       "  </tbody>\n",
       "</table>\n",
       "</div>"
      ],
      "text/plain": [
       "                          address  adm-fees garage-places      price rooms  \\\n",
       "0    Avenida Raja Gabaglia, 1583      470.0             1   330000.0     1   \n",
       "1       Rua Espírito Santo, 1171        NaN             1   480000.0     2   \n",
       "2  Rua dos Expedicionários, 1082        NaN             5  1190000.0     4   \n",
       "3        Rua Marechal Hermes, 81      750.0             4  1590000.0     4   \n",
       "4                Rua Juruna, 110        NaN             6   550000.0     3   \n",
       "\n",
       "  square-foot   neighborhood              city   latitude  longitude  \n",
       "0          40     Luxemburgo   Belo Horizonte  -19.936415 -43.953396  \n",
       "1       45-65         Centro   Belo Horizonte  -18.864776 -41.121777  \n",
       "2         411   Santa Amélia   Belo Horizonte  -20.225241 -44.397780  \n",
       "3         158      Gutierrez   Belo Horizonte  -19.937155 -43.958694  \n",
       "4         278      Pindorama   Belo Horizonte  -19.912982 -44.019944  "
      ]
     },
     "execution_count": 15,
     "metadata": {},
     "output_type": "execute_result"
    }
   ],
   "source": [
    "# imprime as 5 primeiras linhas do dataframe\n",
    "df_house.head()"
   ]
  },
  {
   "cell_type": "code",
   "execution_count": 16,
   "id": "81624caa-7692-4829-9179-d8c98df02bbb",
   "metadata": {
    "tags": []
   },
   "outputs": [
    {
     "data": {
      "text/plain": [
       "Index(['address', 'adm-fees', 'garage-places', 'price', 'rooms', 'square-foot',\n",
       "       'neighborhood', 'city', 'latitude', 'longitude'],\n",
       "      dtype='object')"
      ]
     },
     "execution_count": 16,
     "metadata": {},
     "output_type": "execute_result"
    }
   ],
   "source": [
    "df_house.columns"
   ]
  },
  {
   "cell_type": "code",
   "execution_count": 17,
   "id": "94550367-34ee-49d9-8b5f-08bf67eb7bd7",
   "metadata": {
    "tags": []
   },
   "outputs": [
    {
     "data": {
      "text/plain": [
       "address          5981\n",
       "adm-fees         3977\n",
       "garage-places    5981\n",
       "price            5951\n",
       "rooms            5981\n",
       "square-foot      5981\n",
       "neighborhood     5957\n",
       "city             5981\n",
       "latitude         5981\n",
       "longitude        5981\n",
       "dtype: int64"
      ]
     },
     "execution_count": 17,
     "metadata": {},
     "output_type": "execute_result"
    }
   ],
   "source": [
    "df_house.count()"
   ]
  },
  {
   "cell_type": "code",
   "execution_count": 18,
   "id": "c9b3fe72-9f96-423a-9fee-6e9d802637f0",
   "metadata": {
    "tags": []
   },
   "outputs": [
    {
     "data": {
      "text/html": [
       "<div>\n",
       "<style scoped>\n",
       "    .dataframe tbody tr th:only-of-type {\n",
       "        vertical-align: middle;\n",
       "    }\n",
       "\n",
       "    .dataframe tbody tr th {\n",
       "        vertical-align: top;\n",
       "    }\n",
       "\n",
       "    .dataframe thead th {\n",
       "        text-align: right;\n",
       "    }\n",
       "</style>\n",
       "<table border=\"1\" class=\"dataframe\">\n",
       "  <thead>\n",
       "    <tr style=\"text-align: right;\">\n",
       "      <th></th>\n",
       "      <th>adm-fees</th>\n",
       "      <th>price</th>\n",
       "      <th>latitude</th>\n",
       "      <th>longitude</th>\n",
       "    </tr>\n",
       "  </thead>\n",
       "  <tbody>\n",
       "    <tr>\n",
       "      <th>count</th>\n",
       "      <td>3.977000e+03</td>\n",
       "      <td>5.951000e+03</td>\n",
       "      <td>5981.000000</td>\n",
       "      <td>5981.000000</td>\n",
       "    </tr>\n",
       "    <tr>\n",
       "      <th>mean</th>\n",
       "      <td>2.056605e+03</td>\n",
       "      <td>1.075036e+06</td>\n",
       "      <td>-19.910276</td>\n",
       "      <td>-43.932281</td>\n",
       "    </tr>\n",
       "    <tr>\n",
       "      <th>std</th>\n",
       "      <td>3.626885e+04</td>\n",
       "      <td>2.127474e+06</td>\n",
       "      <td>0.118853</td>\n",
       "      <td>0.241396</td>\n",
       "    </tr>\n",
       "    <tr>\n",
       "      <th>min</th>\n",
       "      <td>1.000000e+00</td>\n",
       "      <td>4.500000e+02</td>\n",
       "      <td>-23.072465</td>\n",
       "      <td>-46.985263</td>\n",
       "    </tr>\n",
       "    <tr>\n",
       "      <th>25%</th>\n",
       "      <td>3.000000e+02</td>\n",
       "      <td>3.900000e+05</td>\n",
       "      <td>-19.947275</td>\n",
       "      <td>-43.968233</td>\n",
       "    </tr>\n",
       "    <tr>\n",
       "      <th>50%</th>\n",
       "      <td>5.000000e+02</td>\n",
       "      <td>6.800000e+05</td>\n",
       "      <td>-19.929535</td>\n",
       "      <td>-43.945011</td>\n",
       "    </tr>\n",
       "    <tr>\n",
       "      <th>75%</th>\n",
       "      <td>1.000000e+03</td>\n",
       "      <td>1.210000e+06</td>\n",
       "      <td>-19.897969</td>\n",
       "      <td>-43.930613</td>\n",
       "    </tr>\n",
       "    <tr>\n",
       "      <th>max</th>\n",
       "      <td>1.500000e+06</td>\n",
       "      <td>1.300000e+08</td>\n",
       "      <td>-17.373120</td>\n",
       "      <td>-41.121777</td>\n",
       "    </tr>\n",
       "  </tbody>\n",
       "</table>\n",
       "</div>"
      ],
      "text/plain": [
       "           adm-fees         price     latitude    longitude\n",
       "count  3.977000e+03  5.951000e+03  5981.000000  5981.000000\n",
       "mean   2.056605e+03  1.075036e+06   -19.910276   -43.932281\n",
       "std    3.626885e+04  2.127474e+06     0.118853     0.241396\n",
       "min    1.000000e+00  4.500000e+02   -23.072465   -46.985263\n",
       "25%    3.000000e+02  3.900000e+05   -19.947275   -43.968233\n",
       "50%    5.000000e+02  6.800000e+05   -19.929535   -43.945011\n",
       "75%    1.000000e+03  1.210000e+06   -19.897969   -43.930613\n",
       "max    1.500000e+06  1.300000e+08   -17.373120   -41.121777"
      ]
     },
     "execution_count": 18,
     "metadata": {},
     "output_type": "execute_result"
    }
   ],
   "source": [
    "df_house.describe()"
   ]
  },
  {
   "cell_type": "code",
   "execution_count": 19,
   "id": "a17bc627-21cb-4a66-96ef-17cf4beeceb4",
   "metadata": {
    "tags": []
   },
   "outputs": [
    {
     "data": {
      "text/html": [
       "<div>\n",
       "<style scoped>\n",
       "    .dataframe tbody tr th:only-of-type {\n",
       "        vertical-align: middle;\n",
       "    }\n",
       "\n",
       "    .dataframe tbody tr th {\n",
       "        vertical-align: top;\n",
       "    }\n",
       "\n",
       "    .dataframe thead th {\n",
       "        text-align: right;\n",
       "    }\n",
       "</style>\n",
       "<table border=\"1\" class=\"dataframe\">\n",
       "  <thead>\n",
       "    <tr style=\"text-align: right;\">\n",
       "      <th></th>\n",
       "      <th>address</th>\n",
       "      <th>adm-fees</th>\n",
       "      <th>garage-places</th>\n",
       "      <th>price</th>\n",
       "      <th>rooms</th>\n",
       "      <th>square-foot</th>\n",
       "      <th>neighborhood</th>\n",
       "      <th>city</th>\n",
       "      <th>latitude</th>\n",
       "      <th>longitude</th>\n",
       "    </tr>\n",
       "  </thead>\n",
       "  <tbody>\n",
       "    <tr>\n",
       "      <th>5976</th>\n",
       "      <td>Rua Gama Cerqueira</td>\n",
       "      <td>340.0</td>\n",
       "      <td>2</td>\n",
       "      <td>560000.0</td>\n",
       "      <td>3</td>\n",
       "      <td>92</td>\n",
       "      <td>Nova Suíssa</td>\n",
       "      <td>Belo Horizonte</td>\n",
       "      <td>-19.945428</td>\n",
       "      <td>-43.970988</td>\n",
       "    </tr>\n",
       "    <tr>\n",
       "      <th>5977</th>\n",
       "      <td>Rua Arthur Lourenço, 262</td>\n",
       "      <td>200.0</td>\n",
       "      <td>1</td>\n",
       "      <td>440000.0</td>\n",
       "      <td>3</td>\n",
       "      <td>90</td>\n",
       "      <td>Barreiro</td>\n",
       "      <td>Belo Horizonte</td>\n",
       "      <td>-19.979915</td>\n",
       "      <td>-44.026007</td>\n",
       "    </tr>\n",
       "    <tr>\n",
       "      <th>5978</th>\n",
       "      <td>Rua General Ephigênio Ruas Santos</td>\n",
       "      <td>10.0</td>\n",
       "      <td>2</td>\n",
       "      <td>500000.0</td>\n",
       "      <td>3</td>\n",
       "      <td>80</td>\n",
       "      <td>Itapoã</td>\n",
       "      <td>Belo Horizonte</td>\n",
       "      <td>-19.840904</td>\n",
       "      <td>-43.956037</td>\n",
       "    </tr>\n",
       "    <tr>\n",
       "      <th>5979</th>\n",
       "      <td>Rua General Ephigênio Ruas Santos</td>\n",
       "      <td>10.0</td>\n",
       "      <td>2</td>\n",
       "      <td>740000.0</td>\n",
       "      <td>3</td>\n",
       "      <td>80</td>\n",
       "      <td>Itapoã</td>\n",
       "      <td>Belo Horizonte</td>\n",
       "      <td>-19.840904</td>\n",
       "      <td>-43.956037</td>\n",
       "    </tr>\n",
       "    <tr>\n",
       "      <th>5980</th>\n",
       "      <td>Avenida do Contorno</td>\n",
       "      <td>NaN</td>\n",
       "      <td>3</td>\n",
       "      <td>4990000.0</td>\n",
       "      <td>--</td>\n",
       "      <td>428</td>\n",
       "      <td>Savassi</td>\n",
       "      <td>Belo Horizonte</td>\n",
       "      <td>-19.915643</td>\n",
       "      <td>-43.945380</td>\n",
       "    </tr>\n",
       "  </tbody>\n",
       "</table>\n",
       "</div>"
      ],
      "text/plain": [
       "                                 address  adm-fees garage-places      price  \\\n",
       "5976                 Rua Gama Cerqueira      340.0             2   560000.0   \n",
       "5977           Rua Arthur Lourenço, 262      200.0             1   440000.0   \n",
       "5978  Rua General Ephigênio Ruas Santos       10.0             2   500000.0   \n",
       "5979  Rua General Ephigênio Ruas Santos       10.0             2   740000.0   \n",
       "5980                Avenida do Contorno        NaN             3  4990000.0   \n",
       "\n",
       "     rooms square-foot  neighborhood              city   latitude  longitude  \n",
       "5976     3          92   Nova Suíssa   Belo Horizonte  -19.945428 -43.970988  \n",
       "5977     3          90      Barreiro   Belo Horizonte  -19.979915 -44.026007  \n",
       "5978     3          80        Itapoã   Belo Horizonte  -19.840904 -43.956037  \n",
       "5979     3          80        Itapoã   Belo Horizonte  -19.840904 -43.956037  \n",
       "5980    --         428       Savassi   Belo Horizonte  -19.915643 -43.945380  "
      ]
     },
     "execution_count": 19,
     "metadata": {},
     "output_type": "execute_result"
    }
   ],
   "source": [
    "df_house.tail()"
   ]
  },
  {
   "cell_type": "code",
   "execution_count": 20,
   "id": "8e63f091-8b49-4508-b34d-8fe8d4bb9b00",
   "metadata": {
    "tags": []
   },
   "outputs": [
    {
     "name": "stdout",
     "output_type": "stream",
     "text": [
      "<class 'pandas.core.frame.DataFrame'>\n",
      "RangeIndex: 5981 entries, 0 to 5980\n",
      "Data columns (total 10 columns):\n",
      " #   Column         Non-Null Count  Dtype  \n",
      "---  ------         --------------  -----  \n",
      " 0   address        5981 non-null   object \n",
      " 1   adm-fees       3977 non-null   float64\n",
      " 2   garage-places  5981 non-null   object \n",
      " 3   price          5951 non-null   float64\n",
      " 4   rooms          5981 non-null   object \n",
      " 5   square-foot    5981 non-null   object \n",
      " 6   neighborhood   5957 non-null   object \n",
      " 7   city           5981 non-null   object \n",
      " 8   latitude       5981 non-null   float64\n",
      " 9   longitude      5981 non-null   float64\n",
      "dtypes: float64(4), object(6)\n",
      "memory usage: 467.4+ KB\n"
     ]
    }
   ],
   "source": [
    "df_house.info()"
   ]
  },
  {
   "cell_type": "code",
   "execution_count": 21,
   "id": "a0659f5d-751f-47bd-b052-4fca3a8f2195",
   "metadata": {
    "tags": []
   },
   "outputs": [
    {
     "data": {
      "text/plain": [
       "(5981, 10)"
      ]
     },
     "execution_count": 21,
     "metadata": {},
     "output_type": "execute_result"
    }
   ],
   "source": [
    "df_house.shape"
   ]
  },
  {
   "cell_type": "code",
   "execution_count": 22,
   "id": "6f1644bc-2157-446c-84e7-c930ca89b1e8",
   "metadata": {
    "tags": []
   },
   "outputs": [
    {
     "data": {
      "text/plain": [
       "['address',\n",
       " 'adm-fees',\n",
       " 'garage-places',\n",
       " 'price',\n",
       " 'rooms',\n",
       " 'square-foot',\n",
       " 'neighborhood',\n",
       " 'city',\n",
       " 'latitude',\n",
       " 'longitude']"
      ]
     },
     "execution_count": 22,
     "metadata": {},
     "output_type": "execute_result"
    }
   ],
   "source": [
    "df_house.columns.tolist()"
   ]
  },
  {
   "cell_type": "code",
   "execution_count": 23,
   "id": "d779bca3-bd8d-4ceb-a436-ac213e9a67cc",
   "metadata": {
    "tags": []
   },
   "outputs": [],
   "source": [
    "df_house = pd.read_csv(arquivo, sep=',', header=0, usecols=['adm-fees','garage-places','price','rooms','square-foot','latitude','longitude'])"
   ]
  },
  {
   "cell_type": "code",
   "execution_count": 24,
   "id": "73db8a76-75c9-417e-8f7b-572ba3e1a94b",
   "metadata": {
    "tags": []
   },
   "outputs": [
    {
     "data": {
      "text/html": [
       "<div>\n",
       "<style scoped>\n",
       "    .dataframe tbody tr th:only-of-type {\n",
       "        vertical-align: middle;\n",
       "    }\n",
       "\n",
       "    .dataframe tbody tr th {\n",
       "        vertical-align: top;\n",
       "    }\n",
       "\n",
       "    .dataframe thead th {\n",
       "        text-align: right;\n",
       "    }\n",
       "</style>\n",
       "<table border=\"1\" class=\"dataframe\">\n",
       "  <thead>\n",
       "    <tr style=\"text-align: right;\">\n",
       "      <th></th>\n",
       "      <th>adm-fees</th>\n",
       "      <th>garage-places</th>\n",
       "      <th>price</th>\n",
       "      <th>rooms</th>\n",
       "      <th>square-foot</th>\n",
       "      <th>latitude</th>\n",
       "      <th>longitude</th>\n",
       "    </tr>\n",
       "  </thead>\n",
       "  <tbody>\n",
       "    <tr>\n",
       "      <th>0</th>\n",
       "      <td>470.0</td>\n",
       "      <td>1</td>\n",
       "      <td>330000.0</td>\n",
       "      <td>1</td>\n",
       "      <td>40</td>\n",
       "      <td>-19.936415</td>\n",
       "      <td>-43.953396</td>\n",
       "    </tr>\n",
       "    <tr>\n",
       "      <th>1</th>\n",
       "      <td>NaN</td>\n",
       "      <td>1</td>\n",
       "      <td>480000.0</td>\n",
       "      <td>2</td>\n",
       "      <td>45-65</td>\n",
       "      <td>-18.864776</td>\n",
       "      <td>-41.121777</td>\n",
       "    </tr>\n",
       "    <tr>\n",
       "      <th>2</th>\n",
       "      <td>NaN</td>\n",
       "      <td>5</td>\n",
       "      <td>1190000.0</td>\n",
       "      <td>4</td>\n",
       "      <td>411</td>\n",
       "      <td>-20.225241</td>\n",
       "      <td>-44.397780</td>\n",
       "    </tr>\n",
       "    <tr>\n",
       "      <th>3</th>\n",
       "      <td>750.0</td>\n",
       "      <td>4</td>\n",
       "      <td>1590000.0</td>\n",
       "      <td>4</td>\n",
       "      <td>158</td>\n",
       "      <td>-19.937155</td>\n",
       "      <td>-43.958694</td>\n",
       "    </tr>\n",
       "    <tr>\n",
       "      <th>4</th>\n",
       "      <td>NaN</td>\n",
       "      <td>6</td>\n",
       "      <td>550000.0</td>\n",
       "      <td>3</td>\n",
       "      <td>278</td>\n",
       "      <td>-19.912982</td>\n",
       "      <td>-44.019944</td>\n",
       "    </tr>\n",
       "  </tbody>\n",
       "</table>\n",
       "</div>"
      ],
      "text/plain": [
       "   adm-fees garage-places      price rooms square-foot   latitude  longitude\n",
       "0     470.0             1   330000.0     1          40 -19.936415 -43.953396\n",
       "1       NaN             1   480000.0     2       45-65 -18.864776 -41.121777\n",
       "2       NaN             5  1190000.0     4         411 -20.225241 -44.397780\n",
       "3     750.0             4  1590000.0     4         158 -19.937155 -43.958694\n",
       "4       NaN             6   550000.0     3         278 -19.912982 -44.019944"
      ]
     },
     "execution_count": 24,
     "metadata": {},
     "output_type": "execute_result"
    }
   ],
   "source": [
    "df_house.head()"
   ]
  },
  {
   "cell_type": "code",
   "execution_count": 25,
   "id": "843e2854-5a63-4bd0-b7e2-858bb75fc7f4",
   "metadata": {
    "tags": []
   },
   "outputs": [
    {
     "name": "stdout",
     "output_type": "stream",
     "text": [
      "<class 'pandas.core.frame.DataFrame'>\n",
      "RangeIndex: 5981 entries, 0 to 5980\n",
      "Data columns (total 7 columns):\n",
      " #   Column         Non-Null Count  Dtype  \n",
      "---  ------         --------------  -----  \n",
      " 0   adm-fees       3977 non-null   float64\n",
      " 1   garage-places  5981 non-null   object \n",
      " 2   price          5951 non-null   float64\n",
      " 3   rooms          5981 non-null   object \n",
      " 4   square-foot    5981 non-null   object \n",
      " 5   latitude       5981 non-null   float64\n",
      " 6   longitude      5981 non-null   float64\n",
      "dtypes: float64(4), object(3)\n",
      "memory usage: 327.2+ KB\n"
     ]
    }
   ],
   "source": [
    "df_house.info()"
   ]
  },
  {
   "cell_type": "code",
   "execution_count": 26,
   "id": "4cca1fc0-0c18-4a0f-8a56-5242527157c9",
   "metadata": {
    "tags": []
   },
   "outputs": [
    {
     "data": {
      "text/plain": [
       "90        130\n",
       "70        128\n",
       "140       122\n",
       "80        116\n",
       "60        112\n",
       "         ... \n",
       "659         1\n",
       "575         1\n",
       "92-125      1\n",
       "84-87       1\n",
       "307         1\n",
       "Name: square-foot, Length: 618, dtype: int64"
      ]
     },
     "execution_count": 26,
     "metadata": {},
     "output_type": "execute_result"
    }
   ],
   "source": [
    "pd.value_counts(df_house['square-foot'])"
   ]
  },
  {
   "cell_type": "code",
   "execution_count": 27,
   "id": "d9c52fe3-e078-47af-9c2b-8fea11305a9d",
   "metadata": {
    "tags": []
   },
   "outputs": [
    {
     "data": {
      "text/html": [
       "<div>\n",
       "<style scoped>\n",
       "    .dataframe tbody tr th:only-of-type {\n",
       "        vertical-align: middle;\n",
       "    }\n",
       "\n",
       "    .dataframe tbody tr th {\n",
       "        vertical-align: top;\n",
       "    }\n",
       "\n",
       "    .dataframe thead th {\n",
       "        text-align: right;\n",
       "    }\n",
       "</style>\n",
       "<table border=\"1\" class=\"dataframe\">\n",
       "  <thead>\n",
       "    <tr style=\"text-align: right;\">\n",
       "      <th></th>\n",
       "      <th>adm-fees</th>\n",
       "      <th>garage-places</th>\n",
       "      <th>price</th>\n",
       "      <th>rooms</th>\n",
       "      <th>square-foot</th>\n",
       "      <th>latitude</th>\n",
       "      <th>longitude</th>\n",
       "    </tr>\n",
       "  </thead>\n",
       "  <tbody>\n",
       "    <tr>\n",
       "      <th>1</th>\n",
       "      <td>NaN</td>\n",
       "      <td>1</td>\n",
       "      <td>480000.0</td>\n",
       "      <td>2</td>\n",
       "      <td>45-65</td>\n",
       "      <td>-18.864776</td>\n",
       "      <td>-41.121777</td>\n",
       "    </tr>\n",
       "    <tr>\n",
       "      <th>2</th>\n",
       "      <td>NaN</td>\n",
       "      <td>5</td>\n",
       "      <td>1190000.0</td>\n",
       "      <td>4</td>\n",
       "      <td>411</td>\n",
       "      <td>-20.225241</td>\n",
       "      <td>-44.397780</td>\n",
       "    </tr>\n",
       "    <tr>\n",
       "      <th>4</th>\n",
       "      <td>NaN</td>\n",
       "      <td>6</td>\n",
       "      <td>550000.0</td>\n",
       "      <td>3</td>\n",
       "      <td>278</td>\n",
       "      <td>-19.912982</td>\n",
       "      <td>-44.019944</td>\n",
       "    </tr>\n",
       "    <tr>\n",
       "      <th>6</th>\n",
       "      <td>NaN</td>\n",
       "      <td>2</td>\n",
       "      <td>861748.0</td>\n",
       "      <td>2</td>\n",
       "      <td>60-71</td>\n",
       "      <td>-18.864776</td>\n",
       "      <td>-41.121777</td>\n",
       "    </tr>\n",
       "    <tr>\n",
       "      <th>8</th>\n",
       "      <td>NaN</td>\n",
       "      <td>2</td>\n",
       "      <td>890000.0</td>\n",
       "      <td>3</td>\n",
       "      <td>200</td>\n",
       "      <td>-19.902339</td>\n",
       "      <td>-43.942072</td>\n",
       "    </tr>\n",
       "    <tr>\n",
       "      <th>...</th>\n",
       "      <td>...</td>\n",
       "      <td>...</td>\n",
       "      <td>...</td>\n",
       "      <td>...</td>\n",
       "      <td>...</td>\n",
       "      <td>...</td>\n",
       "      <td>...</td>\n",
       "    </tr>\n",
       "    <tr>\n",
       "      <th>5968</th>\n",
       "      <td>NaN</td>\n",
       "      <td>2</td>\n",
       "      <td>912400.0</td>\n",
       "      <td>2</td>\n",
       "      <td>60</td>\n",
       "      <td>-19.924514</td>\n",
       "      <td>-43.953888</td>\n",
       "    </tr>\n",
       "    <tr>\n",
       "      <th>5970</th>\n",
       "      <td>NaN</td>\n",
       "      <td>--</td>\n",
       "      <td>9500000.0</td>\n",
       "      <td>--</td>\n",
       "      <td>4000</td>\n",
       "      <td>-19.980703</td>\n",
       "      <td>-43.975175</td>\n",
       "    </tr>\n",
       "    <tr>\n",
       "      <th>5971</th>\n",
       "      <td>NaN</td>\n",
       "      <td>--</td>\n",
       "      <td>1880000.0</td>\n",
       "      <td>3</td>\n",
       "      <td>118</td>\n",
       "      <td>-19.938824</td>\n",
       "      <td>-43.927445</td>\n",
       "    </tr>\n",
       "    <tr>\n",
       "      <th>5973</th>\n",
       "      <td>NaN</td>\n",
       "      <td>3</td>\n",
       "      <td>925633.0</td>\n",
       "      <td>3</td>\n",
       "      <td>131</td>\n",
       "      <td>-19.919402</td>\n",
       "      <td>-43.964543</td>\n",
       "    </tr>\n",
       "    <tr>\n",
       "      <th>5980</th>\n",
       "      <td>NaN</td>\n",
       "      <td>3</td>\n",
       "      <td>4990000.0</td>\n",
       "      <td>--</td>\n",
       "      <td>428</td>\n",
       "      <td>-19.915643</td>\n",
       "      <td>-43.945380</td>\n",
       "    </tr>\n",
       "  </tbody>\n",
       "</table>\n",
       "<p>2004 rows × 7 columns</p>\n",
       "</div>"
      ],
      "text/plain": [
       "      adm-fees garage-places      price rooms square-foot   latitude  \\\n",
       "1          NaN             1   480000.0     2       45-65 -18.864776   \n",
       "2          NaN             5  1190000.0     4         411 -20.225241   \n",
       "4          NaN             6   550000.0     3         278 -19.912982   \n",
       "6          NaN             2   861748.0     2       60-71 -18.864776   \n",
       "8          NaN             2   890000.0     3         200 -19.902339   \n",
       "...        ...           ...        ...   ...         ...        ...   \n",
       "5968       NaN             2   912400.0     2          60 -19.924514   \n",
       "5970       NaN            --  9500000.0    --        4000 -19.980703   \n",
       "5971       NaN            --  1880000.0     3         118 -19.938824   \n",
       "5973       NaN             3   925633.0     3         131 -19.919402   \n",
       "5980       NaN             3  4990000.0    --         428 -19.915643   \n",
       "\n",
       "      longitude  \n",
       "1    -41.121777  \n",
       "2    -44.397780  \n",
       "4    -44.019944  \n",
       "6    -41.121777  \n",
       "8    -43.942072  \n",
       "...         ...  \n",
       "5968 -43.953888  \n",
       "5970 -43.975175  \n",
       "5971 -43.927445  \n",
       "5973 -43.964543  \n",
       "5980 -43.945380  \n",
       "\n",
       "[2004 rows x 7 columns]"
      ]
     },
     "execution_count": 27,
     "metadata": {},
     "output_type": "execute_result"
    }
   ],
   "source": [
    "df_house.loc[np.isnan(df_house['adm-fees'])]"
   ]
  },
  {
   "cell_type": "code",
   "execution_count": 28,
   "id": "5e1e73ac-c958-4c45-a813-bfb5351fccfe",
   "metadata": {
    "tags": []
   },
   "outputs": [
    {
     "data": {
      "text/plain": [
       "adm-fees         3967\n",
       "garage-places    5918\n",
       "price            5918\n",
       "rooms            5918\n",
       "square-foot      5918\n",
       "latitude         5918\n",
       "longitude        5918\n",
       "dtype: int64"
      ]
     },
     "execution_count": 28,
     "metadata": {},
     "output_type": "execute_result"
    }
   ],
   "source": [
    "df_house.loc[(df_house['price']<8000000.0)].count()"
   ]
  },
  {
   "cell_type": "code",
   "execution_count": 29,
   "id": "1ed9e89b-e672-4a34-96f5-a174ff09577e",
   "metadata": {
    "tags": []
   },
   "outputs": [
    {
     "data": {
      "text/html": [
       "<div>\n",
       "<style scoped>\n",
       "    .dataframe tbody tr th:only-of-type {\n",
       "        vertical-align: middle;\n",
       "    }\n",
       "\n",
       "    .dataframe tbody tr th {\n",
       "        vertical-align: top;\n",
       "    }\n",
       "\n",
       "    .dataframe thead th {\n",
       "        text-align: right;\n",
       "    }\n",
       "</style>\n",
       "<table border=\"1\" class=\"dataframe\">\n",
       "  <thead>\n",
       "    <tr style=\"text-align: right;\">\n",
       "      <th></th>\n",
       "      <th>adm-fees</th>\n",
       "      <th>garage-places</th>\n",
       "      <th>price</th>\n",
       "      <th>rooms</th>\n",
       "      <th>square-foot</th>\n",
       "      <th>latitude</th>\n",
       "      <th>longitude</th>\n",
       "    </tr>\n",
       "  </thead>\n",
       "  <tbody>\n",
       "  </tbody>\n",
       "</table>\n",
       "</div>"
      ],
      "text/plain": [
       "Empty DataFrame\n",
       "Columns: [adm-fees, garage-places, price, rooms, square-foot, latitude, longitude]\n",
       "Index: []"
      ]
     },
     "execution_count": 29,
     "metadata": {},
     "output_type": "execute_result"
    }
   ],
   "source": [
    "df_house.loc[(df_house['rooms']==3)]"
   ]
  },
  {
   "cell_type": "code",
   "execution_count": 30,
   "id": "cb27c855-df00-43d3-8edf-121749a2e3a0",
   "metadata": {
    "tags": []
   },
   "outputs": [],
   "source": [
    "df_house = pd.read_csv(arquivo, sep=',', header=0, usecols=['adm-fees','garage-places','price','rooms','square-foot','latitude','longitude'])"
   ]
  },
  {
   "cell_type": "code",
   "execution_count": 31,
   "id": "ccceff06-4653-4bc1-a856-c976eeec1026",
   "metadata": {
    "tags": []
   },
   "outputs": [],
   "source": [
    "# adicionar uma coluna\n",
    "df_house['anual-fees'] = df_house['adm-fees'] * 12"
   ]
  },
  {
   "cell_type": "code",
   "execution_count": 32,
   "id": "2cd31a5a-96ff-4dfe-83b0-aae53b318f0a",
   "metadata": {
    "tags": []
   },
   "outputs": [
    {
     "data": {
      "text/html": [
       "<div>\n",
       "<style scoped>\n",
       "    .dataframe tbody tr th:only-of-type {\n",
       "        vertical-align: middle;\n",
       "    }\n",
       "\n",
       "    .dataframe tbody tr th {\n",
       "        vertical-align: top;\n",
       "    }\n",
       "\n",
       "    .dataframe thead th {\n",
       "        text-align: right;\n",
       "    }\n",
       "</style>\n",
       "<table border=\"1\" class=\"dataframe\">\n",
       "  <thead>\n",
       "    <tr style=\"text-align: right;\">\n",
       "      <th></th>\n",
       "      <th>adm-fees</th>\n",
       "      <th>garage-places</th>\n",
       "      <th>price</th>\n",
       "      <th>rooms</th>\n",
       "      <th>square-foot</th>\n",
       "      <th>latitude</th>\n",
       "      <th>longitude</th>\n",
       "      <th>anual-fees</th>\n",
       "    </tr>\n",
       "  </thead>\n",
       "  <tbody>\n",
       "    <tr>\n",
       "      <th>0</th>\n",
       "      <td>470.0</td>\n",
       "      <td>1</td>\n",
       "      <td>330000.0</td>\n",
       "      <td>1</td>\n",
       "      <td>40</td>\n",
       "      <td>-19.936415</td>\n",
       "      <td>-43.953396</td>\n",
       "      <td>5640.0</td>\n",
       "    </tr>\n",
       "    <tr>\n",
       "      <th>1</th>\n",
       "      <td>NaN</td>\n",
       "      <td>1</td>\n",
       "      <td>480000.0</td>\n",
       "      <td>2</td>\n",
       "      <td>45-65</td>\n",
       "      <td>-18.864776</td>\n",
       "      <td>-41.121777</td>\n",
       "      <td>NaN</td>\n",
       "    </tr>\n",
       "    <tr>\n",
       "      <th>2</th>\n",
       "      <td>NaN</td>\n",
       "      <td>5</td>\n",
       "      <td>1190000.0</td>\n",
       "      <td>4</td>\n",
       "      <td>411</td>\n",
       "      <td>-20.225241</td>\n",
       "      <td>-44.397780</td>\n",
       "      <td>NaN</td>\n",
       "    </tr>\n",
       "    <tr>\n",
       "      <th>3</th>\n",
       "      <td>750.0</td>\n",
       "      <td>4</td>\n",
       "      <td>1590000.0</td>\n",
       "      <td>4</td>\n",
       "      <td>158</td>\n",
       "      <td>-19.937155</td>\n",
       "      <td>-43.958694</td>\n",
       "      <td>9000.0</td>\n",
       "    </tr>\n",
       "    <tr>\n",
       "      <th>4</th>\n",
       "      <td>NaN</td>\n",
       "      <td>6</td>\n",
       "      <td>550000.0</td>\n",
       "      <td>3</td>\n",
       "      <td>278</td>\n",
       "      <td>-19.912982</td>\n",
       "      <td>-44.019944</td>\n",
       "      <td>NaN</td>\n",
       "    </tr>\n",
       "  </tbody>\n",
       "</table>\n",
       "</div>"
      ],
      "text/plain": [
       "   adm-fees garage-places      price rooms square-foot   latitude  longitude  \\\n",
       "0     470.0             1   330000.0     1          40 -19.936415 -43.953396   \n",
       "1       NaN             1   480000.0     2       45-65 -18.864776 -41.121777   \n",
       "2       NaN             5  1190000.0     4         411 -20.225241 -44.397780   \n",
       "3     750.0             4  1590000.0     4         158 -19.937155 -43.958694   \n",
       "4       NaN             6   550000.0     3         278 -19.912982 -44.019944   \n",
       "\n",
       "   anual-fees  \n",
       "0      5640.0  \n",
       "1         NaN  \n",
       "2         NaN  \n",
       "3      9000.0  \n",
       "4         NaN  "
      ]
     },
     "execution_count": 32,
     "metadata": {},
     "output_type": "execute_result"
    }
   ],
   "source": [
    "df_house.head()"
   ]
  },
  {
   "cell_type": "code",
   "execution_count": 33,
   "id": "044fec42-d705-4282-bd75-894277cca543",
   "metadata": {
    "tags": []
   },
   "outputs": [],
   "source": [
    "df_house.drop(np.isnan(df_house['adm-fees']).index, inplace=True)"
   ]
  },
  {
   "cell_type": "code",
   "execution_count": 34,
   "id": "8c68c489-1f2c-4c43-8185-ce41a134f56d",
   "metadata": {
    "tags": []
   },
   "outputs": [
    {
     "name": "stdout",
     "output_type": "stream",
     "text": [
      "<class 'pandas.core.frame.DataFrame'>\n",
      "RangeIndex: 0 entries\n",
      "Data columns (total 8 columns):\n",
      " #   Column         Non-Null Count  Dtype  \n",
      "---  ------         --------------  -----  \n",
      " 0   adm-fees       0 non-null      float64\n",
      " 1   garage-places  0 non-null      object \n",
      " 2   price          0 non-null      float64\n",
      " 3   rooms          0 non-null      object \n",
      " 4   square-foot    0 non-null      object \n",
      " 5   latitude       0 non-null      float64\n",
      " 6   longitude      0 non-null      float64\n",
      " 7   anual-fees     0 non-null      float64\n",
      "dtypes: float64(5), object(3)\n",
      "memory usage: 124.0+ bytes\n"
     ]
    }
   ],
   "source": [
    "df_house.info()"
   ]
  },
  {
   "cell_type": "code",
   "execution_count": 44,
   "id": "b6fa121d-c033-4f9a-907f-2524e08c188b",
   "metadata": {
    "tags": []
   },
   "outputs": [
    {
     "name": "stdout",
     "output_type": "stream",
     "text": [
      "0 address          Avenida Raja Gabaglia, 1583 \n",
      "adm-fees                                470.0\n",
      "garage-places                               1\n",
      "price                                330000.0\n",
      "rooms                                       1\n",
      "square-foot                                40\n",
      "neighborhood                       Luxemburgo\n",
      "city                          Belo Horizonte \n",
      "latitude                           -19.936415\n",
      "longitude                          -43.953396\n",
      "Name: 0, dtype: object\n",
      "1 address          Rua Espírito Santo, 1171 \n",
      "adm-fees                               NaN\n",
      "garage-places                            1\n",
      "price                             480000.0\n",
      "rooms                                    2\n",
      "square-foot                          45-65\n",
      "neighborhood                        Centro\n",
      "city                       Belo Horizonte \n",
      "latitude                        -18.864776\n",
      "longitude                       -41.121777\n",
      "Name: 1, dtype: object\n",
      "2 address          Rua dos Expedicionários, 1082 \n",
      "adm-fees                                    NaN\n",
      "garage-places                                 5\n",
      "price                                 1190000.0\n",
      "rooms                                         4\n",
      "square-foot                                 411\n",
      "neighborhood                       Santa Amélia\n",
      "city                            Belo Horizonte \n",
      "latitude                             -20.225241\n",
      "longitude                             -44.39778\n",
      "Name: 2, dtype: object\n",
      "3 address          Rua Marechal Hermes, 81 \n",
      "adm-fees                            750.0\n",
      "garage-places                           4\n",
      "price                           1590000.0\n",
      "rooms                                   4\n",
      "square-foot                           158\n",
      "neighborhood                    Gutierrez\n",
      "city                      Belo Horizonte \n",
      "latitude                       -19.937155\n",
      "longitude                      -43.958694\n",
      "Name: 3, dtype: object\n",
      "4 address          Rua Juruna, 110 \n",
      "adm-fees                      NaN\n",
      "garage-places                   6\n",
      "price                    550000.0\n",
      "rooms                           3\n",
      "square-foot                   278\n",
      "neighborhood            Pindorama\n",
      "city              Belo Horizonte \n",
      "latitude               -19.912982\n",
      "longitude              -44.019944\n",
      "Name: 4, dtype: object\n"
     ]
    }
   ],
   "source": [
    "for indice, linha in df_house.head(n=5).iterrows():\n",
    "    print(indice, linha)"
   ]
  },
  {
   "cell_type": "markdown",
   "id": "49fca614-c616-4570-9c71-b12681b614a5",
   "metadata": {},
   "source": [
    "## Missing Values"
   ]
  },
  {
   "cell_type": "code",
   "execution_count": 45,
   "id": "9ab6e528-332f-410e-b869-85153a8913f6",
   "metadata": {
    "tags": []
   },
   "outputs": [
    {
     "data": {
      "text/plain": [
       "address             0\n",
       "adm-fees         2004\n",
       "garage-places       0\n",
       "price              30\n",
       "rooms               0\n",
       "square-foot         0\n",
       "neighborhood       24\n",
       "city                0\n",
       "latitude            0\n",
       "longitude           0\n",
       "dtype: int64"
      ]
     },
     "execution_count": 45,
     "metadata": {},
     "output_type": "execute_result"
    }
   ],
   "source": [
    "df_house.isnull().sum()"
   ]
  },
  {
   "cell_type": "code",
   "execution_count": 37,
   "id": "a5b7153b-f064-4310-9212-f48004bb5d0f",
   "metadata": {
    "tags": []
   },
   "outputs": [],
   "source": [
    "df_house['adm-fees'].fillna(0, inplace=True)"
   ]
  },
  {
   "cell_type": "code",
   "execution_count": 38,
   "id": "8d124d60-d171-4e5d-841c-d7ce453b8d1e",
   "metadata": {
    "tags": []
   },
   "outputs": [],
   "source": [
    "df_house.dropna(inplace=True)"
   ]
  },
  {
   "cell_type": "code",
   "execution_count": null,
   "id": "a1e652b7-8931-4739-9e44-cd74ec8f29d0",
   "metadata": {},
   "outputs": [],
   "source": []
  }
 ],
 "metadata": {
  "kernelspec": {
   "display_name": "Python 3 (ipykernel)",
   "language": "python",
   "name": "python3"
  },
  "language_info": {
   "codemirror_mode": {
    "name": "ipython",
    "version": 3
   },
   "file_extension": ".py",
   "mimetype": "text/x-python",
   "name": "python",
   "nbconvert_exporter": "python",
   "pygments_lexer": "ipython3",
   "version": "3.10.10"
  }
 },
 "nbformat": 4,
 "nbformat_minor": 5
}
