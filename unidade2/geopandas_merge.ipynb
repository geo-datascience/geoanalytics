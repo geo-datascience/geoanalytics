{
 "cells": [
  {
   "cell_type": "markdown",
   "metadata": {},
   "source": [
    "# Merging data frames\n",
    "\n",
    "Merging in Pandas is similar to joining tables with SQL. If you are a SQL user then you will feel right at home.  \n",
    "\n",
    "The basic idea is to combine the attributes of several dataframes based on a common value.  In this case we are adding new columns to an existing dataframe where with the concat method we were adding new rows.\n",
    "\n",
    "Lets import some data"
   ]
  },
  {
   "cell_type": "code",
   "execution_count": 18,
   "metadata": {
    "tags": []
   },
   "outputs": [
    {
     "name": "stdout",
     "output_type": "stream",
     "text": [
      "<class 'geopandas.geodataframe.GeoDataFrame'>\n",
      "RangeIndex: 487 entries, 0 to 486\n",
      "Data columns (total 6 columns):\n",
      " #   Column      Non-Null Count  Dtype   \n",
      "---  ------      --------------  -----   \n",
      " 0   ID          487 non-null    float64 \n",
      " 1   CODIGO      487 non-null    float64 \n",
      " 2   NOME        487 non-null    object  \n",
      " 3   AREA_KM2    487 non-null    float64 \n",
      " 4   PERIMETR_M  487 non-null    float64 \n",
      " 5   geometry    487 non-null    geometry\n",
      "dtypes: float64(4), geometry(1), object(1)\n",
      "memory usage: 23.0+ KB\n"
     ]
    }
   ],
   "source": [
    "%matplotlib inline\n",
    "import geopandas as gpd\n",
    "import pandas as pd\n",
    "import numpy as np\n",
    "\n",
    "bairro = gpd.read_file(\"data/BAIRRO_POPULAR.shp\")\n",
    "imoveis = gpd.read_file(\"data/house_bh.csv\")\n",
    "bairro.info()"
   ]
  },
  {
   "cell_type": "code",
   "execution_count": 17,
   "metadata": {
    "tags": []
   },
   "outputs": [
    {
     "name": "stdout",
     "output_type": "stream",
     "text": [
      "<class 'geopandas.geodataframe.GeoDataFrame'>\n",
      "RangeIndex: 5981 entries, 0 to 5980\n",
      "Data columns (total 11 columns):\n",
      " #   Column         Non-Null Count  Dtype   \n",
      "---  ------         --------------  -----   \n",
      " 0   address        5981 non-null   object  \n",
      " 1   adm-fees       5981 non-null   object  \n",
      " 2   garage-places  5981 non-null   object  \n",
      " 3   price          5981 non-null   object  \n",
      " 4   rooms          5981 non-null   object  \n",
      " 5   square-foot    5981 non-null   object  \n",
      " 6   neighborhood   5981 non-null   object  \n",
      " 7   city           5981 non-null   object  \n",
      " 8   latitude       5981 non-null   object  \n",
      " 9   longitude      5981 non-null   object  \n",
      " 10  geometry       0 non-null      geometry\n",
      "dtypes: geometry(1), object(10)\n",
      "memory usage: 514.1+ KB\n"
     ]
    }
   ],
   "source": [
    "imoveis.info()"
   ]
  },
  {
   "cell_type": "code",
   "execution_count": 15,
   "metadata": {
    "tags": []
   },
   "outputs": [],
   "source": [
    "imoveis_bairro=pd.merge(bairro,imoveis,how='left', left_on='NOME', right_on='neighborhood')"
   ]
  },
  {
   "cell_type": "code",
   "execution_count": 10,
   "metadata": {
    "tags": []
   },
   "outputs": [
    {
     "data": {
      "text/html": [
       "<div>\n",
       "<style scoped>\n",
       "    .dataframe tbody tr th:only-of-type {\n",
       "        vertical-align: middle;\n",
       "    }\n",
       "\n",
       "    .dataframe tbody tr th {\n",
       "        vertical-align: top;\n",
       "    }\n",
       "\n",
       "    .dataframe thead th {\n",
       "        text-align: right;\n",
       "    }\n",
       "</style>\n",
       "<table border=\"1\" class=\"dataframe\">\n",
       "  <thead>\n",
       "    <tr style=\"text-align: right;\">\n",
       "      <th></th>\n",
       "      <th>address</th>\n",
       "      <th>adm-fees</th>\n",
       "      <th>garage-places</th>\n",
       "      <th>price</th>\n",
       "      <th>rooms</th>\n",
       "      <th>square-foot</th>\n",
       "      <th>neighborhood</th>\n",
       "      <th>city</th>\n",
       "      <th>latitude</th>\n",
       "      <th>longitude</th>\n",
       "      <th>geometry_x</th>\n",
       "      <th>ID</th>\n",
       "      <th>CODIGO</th>\n",
       "      <th>NOME</th>\n",
       "      <th>AREA_KM2</th>\n",
       "      <th>PERIMETR_M</th>\n",
       "      <th>geometry_y</th>\n",
       "    </tr>\n",
       "  </thead>\n",
       "  <tbody>\n",
       "    <tr>\n",
       "      <th>0</th>\n",
       "      <td>NaN</td>\n",
       "      <td>NaN</td>\n",
       "      <td>NaN</td>\n",
       "      <td>NaN</td>\n",
       "      <td>NaN</td>\n",
       "      <td>NaN</td>\n",
       "      <td>NaN</td>\n",
       "      <td>NaN</td>\n",
       "      <td>NaN</td>\n",
       "      <td>NaN</td>\n",
       "      <td>None</td>\n",
       "      <td>207.0</td>\n",
       "      <td>834.0</td>\n",
       "      <td>Jardim Felicidade</td>\n",
       "      <td>0.811</td>\n",
       "      <td>4484.895</td>\n",
       "      <td>POLYGON ((611893.011 7806896.643, 612006.128 7...</td>\n",
       "    </tr>\n",
       "    <tr>\n",
       "      <th>1</th>\n",
       "      <td>NaN</td>\n",
       "      <td>NaN</td>\n",
       "      <td>NaN</td>\n",
       "      <td>NaN</td>\n",
       "      <td>NaN</td>\n",
       "      <td>NaN</td>\n",
       "      <td>NaN</td>\n",
       "      <td>NaN</td>\n",
       "      <td>NaN</td>\n",
       "      <td>NaN</td>\n",
       "      <td>None</td>\n",
       "      <td>177.0</td>\n",
       "      <td>802.0</td>\n",
       "      <td>Solimões</td>\n",
       "      <td>0.280</td>\n",
       "      <td>2459.134</td>\n",
       "      <td>POLYGON ((612143.299 7807875.069, 612149.121 7...</td>\n",
       "    </tr>\n",
       "    <tr>\n",
       "      <th>2</th>\n",
       "      <td>NaN</td>\n",
       "      <td>NaN</td>\n",
       "      <td>NaN</td>\n",
       "      <td>NaN</td>\n",
       "      <td>NaN</td>\n",
       "      <td>NaN</td>\n",
       "      <td>NaN</td>\n",
       "      <td>NaN</td>\n",
       "      <td>NaN</td>\n",
       "      <td>NaN</td>\n",
       "      <td>None</td>\n",
       "      <td>130.0</td>\n",
       "      <td>750.0</td>\n",
       "      <td>Planalto</td>\n",
       "      <td>2.500</td>\n",
       "      <td>10097.252</td>\n",
       "      <td>POLYGON ((609676.978 7807928.199, 609688.638 7...</td>\n",
       "    </tr>\n",
       "    <tr>\n",
       "      <th>3</th>\n",
       "      <td>NaN</td>\n",
       "      <td>NaN</td>\n",
       "      <td>NaN</td>\n",
       "      <td>NaN</td>\n",
       "      <td>NaN</td>\n",
       "      <td>NaN</td>\n",
       "      <td>NaN</td>\n",
       "      <td>NaN</td>\n",
       "      <td>NaN</td>\n",
       "      <td>NaN</td>\n",
       "      <td>None</td>\n",
       "      <td>447.0</td>\n",
       "      <td>1456.0</td>\n",
       "      <td>Vila Primeiro de Maio</td>\n",
       "      <td>0.164</td>\n",
       "      <td>1955.317</td>\n",
       "      <td>POLYGON ((612124.984 7803221.641, 612090.731 7...</td>\n",
       "    </tr>\n",
       "    <tr>\n",
       "      <th>4</th>\n",
       "      <td>NaN</td>\n",
       "      <td>NaN</td>\n",
       "      <td>NaN</td>\n",
       "      <td>NaN</td>\n",
       "      <td>NaN</td>\n",
       "      <td>NaN</td>\n",
       "      <td>NaN</td>\n",
       "      <td>NaN</td>\n",
       "      <td>NaN</td>\n",
       "      <td>NaN</td>\n",
       "      <td>None</td>\n",
       "      <td>200.0</td>\n",
       "      <td>827.0</td>\n",
       "      <td>Trevo</td>\n",
       "      <td>1.916</td>\n",
       "      <td>8063.288</td>\n",
       "      <td>POLYGON ((603126.658 7806926.049, 603127.903 7...</td>\n",
       "    </tr>\n",
       "    <tr>\n",
       "      <th>...</th>\n",
       "      <td>...</td>\n",
       "      <td>...</td>\n",
       "      <td>...</td>\n",
       "      <td>...</td>\n",
       "      <td>...</td>\n",
       "      <td>...</td>\n",
       "      <td>...</td>\n",
       "      <td>...</td>\n",
       "      <td>...</td>\n",
       "      <td>...</td>\n",
       "      <td>...</td>\n",
       "      <td>...</td>\n",
       "      <td>...</td>\n",
       "      <td>...</td>\n",
       "      <td>...</td>\n",
       "      <td>...</td>\n",
       "      <td>...</td>\n",
       "    </tr>\n",
       "    <tr>\n",
       "      <th>482</th>\n",
       "      <td>NaN</td>\n",
       "      <td>NaN</td>\n",
       "      <td>NaN</td>\n",
       "      <td>NaN</td>\n",
       "      <td>NaN</td>\n",
       "      <td>NaN</td>\n",
       "      <td>NaN</td>\n",
       "      <td>NaN</td>\n",
       "      <td>NaN</td>\n",
       "      <td>NaN</td>\n",
       "      <td>None</td>\n",
       "      <td>244.0</td>\n",
       "      <td>1166.0</td>\n",
       "      <td>Mineirão</td>\n",
       "      <td>0.394</td>\n",
       "      <td>2768.098</td>\n",
       "      <td>POLYGON ((601324.879 7785562.653, 601360.798 7...</td>\n",
       "    </tr>\n",
       "    <tr>\n",
       "      <th>483</th>\n",
       "      <td>NaN</td>\n",
       "      <td>NaN</td>\n",
       "      <td>NaN</td>\n",
       "      <td>NaN</td>\n",
       "      <td>NaN</td>\n",
       "      <td>NaN</td>\n",
       "      <td>NaN</td>\n",
       "      <td>NaN</td>\n",
       "      <td>NaN</td>\n",
       "      <td>NaN</td>\n",
       "      <td>None</td>\n",
       "      <td>144.0</td>\n",
       "      <td>768.0</td>\n",
       "      <td>Santa Lúcia</td>\n",
       "      <td>2.110</td>\n",
       "      <td>9646.137</td>\n",
       "      <td>POLYGON ((610121.611 7793273.353, 610036.530 7...</td>\n",
       "    </tr>\n",
       "    <tr>\n",
       "      <th>484</th>\n",
       "      <td>NaN</td>\n",
       "      <td>NaN</td>\n",
       "      <td>NaN</td>\n",
       "      <td>NaN</td>\n",
       "      <td>NaN</td>\n",
       "      <td>NaN</td>\n",
       "      <td>NaN</td>\n",
       "      <td>NaN</td>\n",
       "      <td>NaN</td>\n",
       "      <td>NaN</td>\n",
       "      <td>None</td>\n",
       "      <td>124.0</td>\n",
       "      <td>742.0</td>\n",
       "      <td>Bandeirantes</td>\n",
       "      <td>4.776</td>\n",
       "      <td>13884.018</td>\n",
       "      <td>POLYGON ((603530.377 7803985.581, 603534.838 7...</td>\n",
       "    </tr>\n",
       "    <tr>\n",
       "      <th>485</th>\n",
       "      <td>NaN</td>\n",
       "      <td>NaN</td>\n",
       "      <td>NaN</td>\n",
       "      <td>NaN</td>\n",
       "      <td>NaN</td>\n",
       "      <td>NaN</td>\n",
       "      <td>NaN</td>\n",
       "      <td>NaN</td>\n",
       "      <td>NaN</td>\n",
       "      <td>NaN</td>\n",
       "      <td>None</td>\n",
       "      <td>191.0</td>\n",
       "      <td>816.0</td>\n",
       "      <td>Maria Virgínia</td>\n",
       "      <td>0.575</td>\n",
       "      <td>5975.119</td>\n",
       "      <td>MULTIPOLYGON (((610726.712 7802468.961, 610729...</td>\n",
       "    </tr>\n",
       "    <tr>\n",
       "      <th>486</th>\n",
       "      <td>NaN</td>\n",
       "      <td>NaN</td>\n",
       "      <td>NaN</td>\n",
       "      <td>NaN</td>\n",
       "      <td>NaN</td>\n",
       "      <td>NaN</td>\n",
       "      <td>NaN</td>\n",
       "      <td>NaN</td>\n",
       "      <td>NaN</td>\n",
       "      <td>NaN</td>\n",
       "      <td>None</td>\n",
       "      <td>151.0</td>\n",
       "      <td>775.0</td>\n",
       "      <td>Santa Terezinha</td>\n",
       "      <td>1.476</td>\n",
       "      <td>5327.344</td>\n",
       "      <td>POLYGON ((603754.434 7802940.018, 603888.545 7...</td>\n",
       "    </tr>\n",
       "  </tbody>\n",
       "</table>\n",
       "<p>487 rows × 17 columns</p>\n",
       "</div>"
      ],
      "text/plain": [
       "    address adm-fees garage-places price rooms square-foot neighborhood city  \\\n",
       "0       NaN      NaN           NaN   NaN   NaN         NaN          NaN  NaN   \n",
       "1       NaN      NaN           NaN   NaN   NaN         NaN          NaN  NaN   \n",
       "2       NaN      NaN           NaN   NaN   NaN         NaN          NaN  NaN   \n",
       "3       NaN      NaN           NaN   NaN   NaN         NaN          NaN  NaN   \n",
       "4       NaN      NaN           NaN   NaN   NaN         NaN          NaN  NaN   \n",
       "..      ...      ...           ...   ...   ...         ...          ...  ...   \n",
       "482     NaN      NaN           NaN   NaN   NaN         NaN          NaN  NaN   \n",
       "483     NaN      NaN           NaN   NaN   NaN         NaN          NaN  NaN   \n",
       "484     NaN      NaN           NaN   NaN   NaN         NaN          NaN  NaN   \n",
       "485     NaN      NaN           NaN   NaN   NaN         NaN          NaN  NaN   \n",
       "486     NaN      NaN           NaN   NaN   NaN         NaN          NaN  NaN   \n",
       "\n",
       "    latitude longitude geometry_x     ID  CODIGO                   NOME  \\\n",
       "0        NaN       NaN       None  207.0   834.0      Jardim Felicidade   \n",
       "1        NaN       NaN       None  177.0   802.0               Solimões   \n",
       "2        NaN       NaN       None  130.0   750.0               Planalto   \n",
       "3        NaN       NaN       None  447.0  1456.0  Vila Primeiro de Maio   \n",
       "4        NaN       NaN       None  200.0   827.0                  Trevo   \n",
       "..       ...       ...        ...    ...     ...                    ...   \n",
       "482      NaN       NaN       None  244.0  1166.0               Mineirão   \n",
       "483      NaN       NaN       None  144.0   768.0            Santa Lúcia   \n",
       "484      NaN       NaN       None  124.0   742.0           Bandeirantes   \n",
       "485      NaN       NaN       None  191.0   816.0         Maria Virgínia   \n",
       "486      NaN       NaN       None  151.0   775.0        Santa Terezinha   \n",
       "\n",
       "     AREA_KM2  PERIMETR_M                                         geometry_y  \n",
       "0       0.811    4484.895  POLYGON ((611893.011 7806896.643, 612006.128 7...  \n",
       "1       0.280    2459.134  POLYGON ((612143.299 7807875.069, 612149.121 7...  \n",
       "2       2.500   10097.252  POLYGON ((609676.978 7807928.199, 609688.638 7...  \n",
       "3       0.164    1955.317  POLYGON ((612124.984 7803221.641, 612090.731 7...  \n",
       "4       1.916    8063.288  POLYGON ((603126.658 7806926.049, 603127.903 7...  \n",
       "..        ...         ...                                                ...  \n",
       "482     0.394    2768.098  POLYGON ((601324.879 7785562.653, 601360.798 7...  \n",
       "483     2.110    9646.137  POLYGON ((610121.611 7793273.353, 610036.530 7...  \n",
       "484     4.776   13884.018  POLYGON ((603530.377 7803985.581, 603534.838 7...  \n",
       "485     0.575    5975.119  MULTIPOLYGON (((610726.712 7802468.961, 610729...  \n",
       "486     1.476    5327.344  POLYGON ((603754.434 7802940.018, 603888.545 7...  \n",
       "\n",
       "[487 rows x 17 columns]"
      ]
     },
     "execution_count": 10,
     "metadata": {},
     "output_type": "execute_result"
    }
   ],
   "source": [
    "imoveis_bairro"
   ]
  },
  {
   "cell_type": "markdown",
   "metadata": {},
   "source": [
    "The eagle_surveys table is an example where there are many entries for each entry in the eagle GeoDataFrame. A one to many relationship. In this case each record in the eagle_sources data frame represents the results of an eagle nest surveys.  Surveys were conducted every week during the eagle breeding season so there are 1997 survey records covering 67 eagle nests."
   ]
  },
  {
   "cell_type": "code",
   "execution_count": null,
   "metadata": {},
   "outputs": [],
   "source": [
    "eagle_surveys"
   ]
  },
  {
   "cell_type": "markdown",
   "metadata": {},
   "source": [
    "Lets add a code field to the eagles data and populate it with a random number from 1 to 4."
   ]
  },
  {
   "cell_type": "code",
   "execution_count": null,
   "metadata": {},
   "outputs": [],
   "source": [
    "eagle['code']=np.random.randint(1,5,size=67)\n",
    "eagle.sort_values('nest_id')"
   ]
  },
  {
   "cell_type": "markdown",
   "metadata": {},
   "source": [
    "Now lets merge the eagle table with the eagle_source table into a new table called eagle_merge.  The merge command is called on the Pandas object itself.  It takes two data frames as parameters, the first is considered the left data frame and the second is considered the right data frame.  This will be important later on.  \n",
    "\n",
    "The how parameter specifies the type of join, possibliities include inner, left, right, and outer which will be familiar to SQL users. We'll discuss this later on.  \n",
    "\n",
    "The on parameter specifies the field name to join on and can be used when the field name is the same in both tables.  "
   ]
  },
  {
   "cell_type": "code",
   "execution_count": null,
   "metadata": {},
   "outputs": [],
   "source": [
    "eagle_merge = pd.merge(eagle, eagle_sources, how='inner', on='code').sort_values('nest_id')\n",
    "eagle_merge"
   ]
  },
  {
   "cell_type": "markdown",
   "metadata": {},
   "source": [
    "The source field can now be used like any other field in the table, for instance as the index for a pivot table, but it doesn't take up any more space on disk."
   ]
  },
  {
   "cell_type": "code",
   "execution_count": null,
   "metadata": {},
   "outputs": [],
   "source": [
    "pd.pivot_table(eagle_merge, index=['source', 'status'], values='nest_id', aggfunc='count')"
   ]
  },
  {
   "cell_type": "markdown",
   "metadata": {},
   "source": [
    "Our new dataset can also be merged again with the eagle_survey data frame. This results in a one to many relationship.  **NOTE** In this example the columns we are joining on have different names so we cannot use the *on* parameter, instead we have to specify the column names for each data frame using the *left_on* and *right_on* parameters."
   ]
  },
  {
   "cell_type": "code",
   "execution_count": null,
   "metadata": {},
   "outputs": [],
   "source": [
    "eagle_merge2 = pd.merge(eagle_merge, eagle_surveys, how='inner', left_on='nest_id', right_on='nest').sort_values(['nest_id', 'date'])\n",
    "eagle_merge2"
   ]
  },
  {
   "cell_type": "markdown",
   "metadata": {},
   "source": [
    "Notice that in this case we end up with 1766 rows even though there are 1997 rows in the eagle_surveys table.  This is because we are doing an \"inner join\" which means that the resulting dataframe only has a record for cases where there is a match between the left_on and right_on columns.  Another possibility is a \"left join\" which means that there is at least one record for every row in the left table whether or not there is a corresponding record in the right table.  If there is not a corresponding record in the right table then the field values for the right table will be NaN."
   ]
  },
  {
   "cell_type": "code",
   "execution_count": null,
   "metadata": {},
   "outputs": [],
   "source": [
    "eagle_merge2 = pd.merge(eagle_merge, eagle_surveys, how='left', left_on='nest_id', right_on='nest').sort_values(['nest_id', 'date'])\n",
    "eagle_merge2"
   ]
  },
  {
   "cell_type": "markdown",
   "metadata": {},
   "source": [
    "In this case we have the same number of records as we did with an inner join which tells us that there are no records in the left table that have no corresponding record in the right table.\n",
    "\n",
    "With a \"right join\" there will be a record for every record in the right table whether or not there is a corresponding record in the left table.  "
   ]
  },
  {
   "cell_type": "code",
   "execution_count": null,
   "metadata": {},
   "outputs": [],
   "source": [
    "eagle_merge2 = pd.merge(eagle_merge, eagle_surveys, how='right', left_on='nest_id', right_on='nest').sort_values(['nest_id', 'date'])\n",
    "eagle_merge2"
   ]
  },
  {
   "cell_type": "markdown",
   "metadata": {},
   "source": [
    "We can identify the surveys that have no corresponding record in the eagle table by summarizing the resulting dataframe by nest and getting a count of the nest_id field. "
   ]
  },
  {
   "cell_type": "code",
   "execution_count": null,
   "metadata": {},
   "outputs": [],
   "source": [
    "eagle_merge2.groupby(by='nest').count()['nest_id'].sort_values()"
   ]
  },
  {
   "cell_type": "markdown",
   "metadata": {},
   "source": [
    "As with concatenation, Pandas has a rich ecosystem for merging and joining data and there is a lot of additional functionality that canbe achieved with the merge method as well as a good bit of overlap with other methods.  Again I would refer you to the documentation for specifics on each method and in particular the page in the Pandas user guide on [Merge, Join, Concatenate, etc](https://pandas.pydata.org/pandas-docs/stable/user_guide/merging.html) for more information"
   ]
  },
  {
   "cell_type": "code",
   "execution_count": null,
   "metadata": {},
   "outputs": [],
   "source": []
  }
 ],
 "metadata": {
  "kernelspec": {
   "display_name": "Python 3 (ipykernel)",
   "language": "python",
   "name": "python3"
  },
  "language_info": {
   "codemirror_mode": {
    "name": "ipython",
    "version": 3
   },
   "file_extension": ".py",
   "mimetype": "text/x-python",
   "name": "python",
   "nbconvert_exporter": "python",
   "pygments_lexer": "ipython3",
   "version": "3.10.10"
  }
 },
 "nbformat": 4,
 "nbformat_minor": 4
}
