{
 "cells": [
  {
   "cell_type": "markdown",
   "id": "7fbbfc56-4717-4ed0-a45f-b1339626fa28",
   "metadata": {},
   "source": [
    "# Geocodificação\n",
    "\n",
    "## Geocode\n",
    "\n",
    "Usando o comando geocode:"
   ]
  },
  {
   "cell_type": "code",
   "execution_count": 1,
   "id": "a0628962-c33c-4208-bfa1-fd4b74861ea6",
   "metadata": {
    "tags": []
   },
   "outputs": [
    {
     "name": "stdout",
     "output_type": "stream",
     "text": [
      "Requirement already satisfied: geopy in /opt/conda/lib/python3.10/site-packages (2.3.0)\n",
      "Requirement already satisfied: geographiclib<3,>=1.52 in /opt/conda/lib/python3.10/site-packages (from geopy) (1.52)\n",
      "Note: you may need to restart the kernel to use updated packages.\n"
     ]
    }
   ],
   "source": [
    "pip install geopy"
   ]
  },
  {
   "cell_type": "markdown",
   "id": "521ef996-d275-4748-b7d7-33ad28b07037",
   "metadata": {},
   "source": [
    "<img src=\"https://geopy.readthedocs.io/en/stable/_static/geopy_and_geocoding_services.svg\" alt=\"Alternative text\" />"
   ]
  },
  {
   "cell_type": "code",
   "execution_count": 26,
   "id": "1c291a9c-f95d-4d80-951e-6af29e06ce28",
   "metadata": {
    "tags": []
   },
   "outputs": [],
   "source": [
    "%matplotlib inline\n",
    "import os\n",
    "import conda\n",
    "os.environ['USE_PYGEOS'] = '0'\n",
    "conda_file_dir = conda.__file__\n",
    "conda_dir = conda_file_dir.split('lib')[0]\n",
    "proj_lib = os.path.join(os.path.join(conda_dir, 'share'), 'proj')\n",
    "os.environ[\"PROJ_LIB\"] = proj_lib\n",
    "\n",
    "import geopandas as gpd\n"
   ]
  },
  {
   "cell_type": "code",
   "execution_count": 27,
   "id": "49c42e3a-0f90-4295-89fc-4e5a4fd829f4",
   "metadata": {
    "tags": []
   },
   "outputs": [
    {
     "data": {
      "text/plain": [
       "geopandas.geodataframe.GeoDataFrame"
      ]
     },
     "execution_count": 27,
     "metadata": {},
     "output_type": "execute_result"
    }
   ],
   "source": [
    "geo = gpd.tools.geocode(\"Av.Dom Jose gaspar, 685 - Coração Eucarístico, Belo Horizonte - MG\", provider='nominatim', user_agent='csc_user_ht')\n",
    "type(geo)"
   ]
  },
  {
   "cell_type": "code",
   "execution_count": 28,
   "id": "d31430a5-9ee6-4ca2-8b83-80139d95e5bf",
   "metadata": {
    "tags": []
   },
   "outputs": [
    {
     "data": {
      "text/html": [
       "<div>\n",
       "<style scoped>\n",
       "    .dataframe tbody tr th:only-of-type {\n",
       "        vertical-align: middle;\n",
       "    }\n",
       "\n",
       "    .dataframe tbody tr th {\n",
       "        vertical-align: top;\n",
       "    }\n",
       "\n",
       "    .dataframe thead th {\n",
       "        text-align: right;\n",
       "    }\n",
       "</style>\n",
       "<table border=\"1\" class=\"dataframe\">\n",
       "  <thead>\n",
       "    <tr style=\"text-align: right;\">\n",
       "      <th></th>\n",
       "      <th>geometry</th>\n",
       "      <th>address</th>\n",
       "    </tr>\n",
       "  </thead>\n",
       "  <tbody>\n",
       "    <tr>\n",
       "      <th>0</th>\n",
       "      <td>POINT (-43.99156 -19.92458)</td>\n",
       "      <td>Avenida Dom José Gaspar, Coração Eucarístico, ...</td>\n",
       "    </tr>\n",
       "  </tbody>\n",
       "</table>\n",
       "</div>"
      ],
      "text/plain": [
       "                      geometry  \\\n",
       "0  POINT (-43.99156 -19.92458)   \n",
       "\n",
       "                                             address  \n",
       "0  Avenida Dom José Gaspar, Coração Eucarístico, ...  "
      ]
     },
     "execution_count": 28,
     "metadata": {},
     "output_type": "execute_result"
    }
   ],
   "source": [
    "geo"
   ]
  },
  {
   "cell_type": "markdown",
   "id": "0c9e6104-37d2-4384-a90a-0480e3c692a7",
   "metadata": {
    "tags": []
   },
   "source": [
    "## Geocode Reverso\n",
    "\n",
    "Usando o comando reverse_geocode:"
   ]
  },
  {
   "cell_type": "code",
   "execution_count": 29,
   "id": "1b097bf3-1e2a-4687-b437-f3181d4f17c8",
   "metadata": {
    "tags": []
   },
   "outputs": [],
   "source": [
    "rev = gpd.tools.reverse_geocode([Point(-43.938635, -19.919156),Point( -43.935498,-19.924341)], provider='nominatim', user_agent='csc_user_ht') "
   ]
  },
  {
   "cell_type": "code",
   "execution_count": 30,
   "id": "4779927b-14d1-476c-9f8b-886b644e55a9",
   "metadata": {
    "tags": []
   },
   "outputs": [
    {
     "data": {
      "text/html": [
       "<div>\n",
       "<style scoped>\n",
       "    .dataframe tbody tr th:only-of-type {\n",
       "        vertical-align: middle;\n",
       "    }\n",
       "\n",
       "    .dataframe tbody tr th {\n",
       "        vertical-align: top;\n",
       "    }\n",
       "\n",
       "    .dataframe thead th {\n",
       "        text-align: right;\n",
       "    }\n",
       "</style>\n",
       "<table border=\"1\" class=\"dataframe\">\n",
       "  <thead>\n",
       "    <tr style=\"text-align: right;\">\n",
       "      <th></th>\n",
       "      <th>geometry</th>\n",
       "      <th>address</th>\n",
       "    </tr>\n",
       "  </thead>\n",
       "  <tbody>\n",
       "    <tr>\n",
       "      <th>0</th>\n",
       "      <td>POINT (-43.93859 -19.91910)</td>\n",
       "      <td>Obelisco da Praça 7 de Setembro, Avenida Amazo...</td>\n",
       "    </tr>\n",
       "    <tr>\n",
       "      <th>1</th>\n",
       "      <td>POINT (-43.93588 -19.92450)</td>\n",
       "      <td>Receita Federal, 1316, Avenida Afonso Pena, Ce...</td>\n",
       "    </tr>\n",
       "  </tbody>\n",
       "</table>\n",
       "</div>"
      ],
      "text/plain": [
       "                      geometry  \\\n",
       "0  POINT (-43.93859 -19.91910)   \n",
       "1  POINT (-43.93588 -19.92450)   \n",
       "\n",
       "                                             address  \n",
       "0  Obelisco da Praça 7 de Setembro, Avenida Amazo...  \n",
       "1  Receita Federal, 1316, Avenida Afonso Pena, Ce...  "
      ]
     },
     "execution_count": 30,
     "metadata": {},
     "output_type": "execute_result"
    }
   ],
   "source": [
    "rev.head()"
   ]
  },
  {
   "cell_type": "code",
   "execution_count": null,
   "id": "1708fc09-35b5-4d13-8b11-bd68d0bc370d",
   "metadata": {},
   "outputs": [],
   "source": []
  }
 ],
 "metadata": {
  "kernelspec": {
   "display_name": "Python 3 (ipykernel)",
   "language": "python",
   "name": "python3"
  },
  "language_info": {
   "codemirror_mode": {
    "name": "ipython",
    "version": 3
   },
   "file_extension": ".py",
   "mimetype": "text/x-python",
   "name": "python",
   "nbconvert_exporter": "python",
   "pygments_lexer": "ipython3",
   "version": "3.10.10"
  }
 },
 "nbformat": 4,
 "nbformat_minor": 5
}
