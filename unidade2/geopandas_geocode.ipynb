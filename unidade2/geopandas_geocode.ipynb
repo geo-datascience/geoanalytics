{
 "cells": [
  {
   "cell_type": "markdown",
   "id": "7fbbfc56-4717-4ed0-a45f-b1339626fa28",
   "metadata": {},
   "source": [
    "# Geocoding\n",
    "\n",
    "Usando o comando geocode."
   ]
  },
  {
   "cell_type": "code",
   "execution_count": null,
   "id": "a0628962-c33c-4208-bfa1-fd4b74861ea6",
   "metadata": {
    "tags": []
   },
   "outputs": [],
   "source": [
    "pip install geopy"
   ]
  },
  {
   "cell_type": "code",
   "execution_count": null,
   "id": "1c291a9c-f95d-4d80-951e-6af29e06ce28",
   "metadata": {
    "tags": []
   },
   "outputs": [],
   "source": [
    "%matplotlib inline\n",
    "import geopandas as gpd\n",
    "import pandas as pd\n",
    "from shapely.geometry import Point\n",
    "from geopandas.tools import geocode\n",
    "import numpy as np\n",
    "\n",
    "imoveis = gpd.read_file(\"data/house_bh.csv\")\n",
    "imoveis"
   ]
  },
  {
   "cell_type": "code",
   "execution_count": null,
   "id": "49c42e3a-0f90-4295-89fc-4e5a4fd829f4",
   "metadata": {
    "tags": []
   },
   "outputs": [],
   "source": [
    "geo = geocode(\"Av.Dom Jose gaspar, 685 - Coração Eucarístico, Belo Horizonte - MG\", provider='nominatim', user_agent='csc_user_ht')\n",
    "geo.head(2)"
   ]
  },
  {
   "cell_type": "code",
   "execution_count": null,
   "id": "1b097bf3-1e2a-4687-b437-f3181d4f17c8",
   "metadata": {
    "tags": []
   },
   "outputs": [],
   "source": [
    "df = gpd.tools.reverse_geocode(Point)"
   ]
  },
  {
   "cell_type": "code",
   "execution_count": null,
   "id": "4779927b-14d1-476c-9f8b-886b644e55a9",
   "metadata": {
    "tags": []
   },
   "outputs": [],
   "source": [
    "df.head()"
   ]
  },
  {
   "cell_type": "code",
   "execution_count": null,
   "id": "03372c49-cd91-4177-919c-d81feaaea643",
   "metadata": {
    "tags": []
   },
   "outputs": [],
   "source": [
    "def reverse_geocoding(lat, lon):\n",
    "    try:\n",
    "        location = gpd.tools.reverse_geocode(Point(lat, lon))\n",
    "        return location.raw['display_name']\n",
    "    except:\n",
    "        return None"
   ]
  },
  {
   "cell_type": "code",
   "execution_count": null,
   "id": "7ce3fdb5-3ab9-484c-90a9-13be91e3e90c",
   "metadata": {
    "tags": []
   },
   "outputs": [],
   "source": [
    "imoveis['address'] = np.vectorize(reverse_geocoding)(imoveis['latitude'], imoveis['longitude'])"
   ]
  },
  {
   "cell_type": "code",
   "execution_count": null,
   "id": "558f24b1-e520-459c-b4f5-74d9cea2d7d4",
   "metadata": {
    "tags": []
   },
   "outputs": [],
   "source": [
    "imoveis.head()"
   ]
  },
  {
   "cell_type": "code",
   "execution_count": null,
   "id": "0bbda5a1-ff93-4e73-b3e1-4445ecb5016f",
   "metadata": {},
   "outputs": [],
   "source": []
  }
 ],
 "metadata": {
  "kernelspec": {
   "display_name": "Python 3 (ipykernel)",
   "language": "python",
   "name": "python3"
  },
  "language_info": {
   "codemirror_mode": {
    "name": "ipython",
    "version": 3
   },
   "file_extension": ".py",
   "mimetype": "text/x-python",
   "name": "python",
   "nbconvert_exporter": "python",
   "pygments_lexer": "ipython3",
   "version": "3.10.10"
  }
 },
 "nbformat": 4,
 "nbformat_minor": 5
}
