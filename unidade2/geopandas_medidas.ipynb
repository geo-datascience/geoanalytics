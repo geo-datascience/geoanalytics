{
 "cells": [
  {
   "cell_type": "markdown",
   "metadata": {},
   "source": [
    "# Funções Espaciais\n",
    "\n",
    "## Medidas - Área\n",
    "\n",
    "Método: area"
   ]
  },
  {
   "cell_type": "code",
   "execution_count": 63,
   "metadata": {
    "tags": []
   },
   "outputs": [],
   "source": [
    "%matplotlib inline\n",
    "import geopandas as gpd\n",
    "\n",
    "bairros = gpd.read_file(\"data/BAIRRO_POPULAR.shp\")\n"
   ]
  },
  {
   "cell_type": "code",
   "execution_count": 64,
   "metadata": {
    "tags": []
   },
   "outputs": [
    {
     "data": {
      "text/html": [
       "<div>\n",
       "<style scoped>\n",
       "    .dataframe tbody tr th:only-of-type {\n",
       "        vertical-align: middle;\n",
       "    }\n",
       "\n",
       "    .dataframe tbody tr th {\n",
       "        vertical-align: top;\n",
       "    }\n",
       "\n",
       "    .dataframe thead th {\n",
       "        text-align: right;\n",
       "    }\n",
       "</style>\n",
       "<table border=\"1\" class=\"dataframe\">\n",
       "  <thead>\n",
       "    <tr style=\"text-align: right;\">\n",
       "      <th></th>\n",
       "      <th>ID</th>\n",
       "      <th>CODIGO</th>\n",
       "      <th>NOME</th>\n",
       "      <th>AREA_KM2</th>\n",
       "      <th>PERIMETR_M</th>\n",
       "      <th>geometry</th>\n",
       "    </tr>\n",
       "  </thead>\n",
       "  <tbody>\n",
       "    <tr>\n",
       "      <th>0</th>\n",
       "      <td>207.0</td>\n",
       "      <td>834.0</td>\n",
       "      <td>Jardim Felicidade</td>\n",
       "      <td>0.811</td>\n",
       "      <td>4484.895</td>\n",
       "      <td>POLYGON ((611893.011 7806896.643, 612006.128 7...</td>\n",
       "    </tr>\n",
       "    <tr>\n",
       "      <th>1</th>\n",
       "      <td>177.0</td>\n",
       "      <td>802.0</td>\n",
       "      <td>Solimões</td>\n",
       "      <td>0.280</td>\n",
       "      <td>2459.134</td>\n",
       "      <td>POLYGON ((612143.299 7807875.069, 612149.121 7...</td>\n",
       "    </tr>\n",
       "    <tr>\n",
       "      <th>2</th>\n",
       "      <td>130.0</td>\n",
       "      <td>750.0</td>\n",
       "      <td>Planalto</td>\n",
       "      <td>2.500</td>\n",
       "      <td>10097.252</td>\n",
       "      <td>POLYGON ((609676.978 7807928.199, 609688.638 7...</td>\n",
       "    </tr>\n",
       "    <tr>\n",
       "      <th>3</th>\n",
       "      <td>447.0</td>\n",
       "      <td>1456.0</td>\n",
       "      <td>Vila Primeiro de Maio</td>\n",
       "      <td>0.164</td>\n",
       "      <td>1955.317</td>\n",
       "      <td>POLYGON ((612124.984 7803221.641, 612090.731 7...</td>\n",
       "    </tr>\n",
       "    <tr>\n",
       "      <th>4</th>\n",
       "      <td>200.0</td>\n",
       "      <td>827.0</td>\n",
       "      <td>Trevo</td>\n",
       "      <td>1.916</td>\n",
       "      <td>8063.288</td>\n",
       "      <td>POLYGON ((603126.658 7806926.049, 603127.903 7...</td>\n",
       "    </tr>\n",
       "  </tbody>\n",
       "</table>\n",
       "</div>"
      ],
      "text/plain": [
       "      ID  CODIGO                   NOME  AREA_KM2  PERIMETR_M  \\\n",
       "0  207.0   834.0      Jardim Felicidade     0.811    4484.895   \n",
       "1  177.0   802.0               Solimões     0.280    2459.134   \n",
       "2  130.0   750.0               Planalto     2.500   10097.252   \n",
       "3  447.0  1456.0  Vila Primeiro de Maio     0.164    1955.317   \n",
       "4  200.0   827.0                  Trevo     1.916    8063.288   \n",
       "\n",
       "                                            geometry  \n",
       "0  POLYGON ((611893.011 7806896.643, 612006.128 7...  \n",
       "1  POLYGON ((612143.299 7807875.069, 612149.121 7...  \n",
       "2  POLYGON ((609676.978 7807928.199, 609688.638 7...  \n",
       "3  POLYGON ((612124.984 7803221.641, 612090.731 7...  \n",
       "4  POLYGON ((603126.658 7806926.049, 603127.903 7...  "
      ]
     },
     "execution_count": 64,
     "metadata": {},
     "output_type": "execute_result"
    }
   ],
   "source": [
    "bairros.head()"
   ]
  },
  {
   "cell_type": "code",
   "execution_count": 65,
   "metadata": {
    "tags": []
   },
   "outputs": [
    {
     "data": {
      "text/plain": [
       "<Projected CRS: EPSG:31983>\n",
       "Name: SIRGAS 2000 / UTM zone 23S\n",
       "Axis Info [cartesian]:\n",
       "- E[east]: Easting (metre)\n",
       "- N[north]: Northing (metre)\n",
       "Area of Use:\n",
       "- name: Brazil - between 48°W and 42°W, northern and southern hemispheres, onshore and offshore.\n",
       "- bounds: (-48.0, -33.5, -42.0, 5.13)\n",
       "Coordinate Operation:\n",
       "- name: UTM zone 23S\n",
       "- method: Transverse Mercator\n",
       "Datum: Sistema de Referencia Geocentrico para las AmericaS 2000\n",
       "- Ellipsoid: GRS 1980\n",
       "- Prime Meridian: Greenwich"
      ]
     },
     "execution_count": 65,
     "metadata": {},
     "output_type": "execute_result"
    }
   ],
   "source": [
    "bairros.crs"
   ]
  },
  {
   "cell_type": "code",
   "execution_count": 66,
   "metadata": {
    "tags": []
   },
   "outputs": [],
   "source": [
    "bairros['area_gp'] = bairros['geometry'].area/1000000"
   ]
  },
  {
   "cell_type": "code",
   "execution_count": 67,
   "metadata": {
    "tags": []
   },
   "outputs": [
    {
     "data": {
      "text/html": [
       "<div>\n",
       "<style scoped>\n",
       "    .dataframe tbody tr th:only-of-type {\n",
       "        vertical-align: middle;\n",
       "    }\n",
       "\n",
       "    .dataframe tbody tr th {\n",
       "        vertical-align: top;\n",
       "    }\n",
       "\n",
       "    .dataframe thead th {\n",
       "        text-align: right;\n",
       "    }\n",
       "</style>\n",
       "<table border=\"1\" class=\"dataframe\">\n",
       "  <thead>\n",
       "    <tr style=\"text-align: right;\">\n",
       "      <th></th>\n",
       "      <th>ID</th>\n",
       "      <th>CODIGO</th>\n",
       "      <th>NOME</th>\n",
       "      <th>AREA_KM2</th>\n",
       "      <th>PERIMETR_M</th>\n",
       "      <th>geometry</th>\n",
       "      <th>area_gp</th>\n",
       "    </tr>\n",
       "  </thead>\n",
       "  <tbody>\n",
       "    <tr>\n",
       "      <th>0</th>\n",
       "      <td>207.0</td>\n",
       "      <td>834.0</td>\n",
       "      <td>Jardim Felicidade</td>\n",
       "      <td>0.811</td>\n",
       "      <td>4484.895</td>\n",
       "      <td>POLYGON ((611893.011 7806896.643, 612006.128 7...</td>\n",
       "      <td>0.811167</td>\n",
       "    </tr>\n",
       "    <tr>\n",
       "      <th>1</th>\n",
       "      <td>177.0</td>\n",
       "      <td>802.0</td>\n",
       "      <td>Solimões</td>\n",
       "      <td>0.280</td>\n",
       "      <td>2459.134</td>\n",
       "      <td>POLYGON ((612143.299 7807875.069, 612149.121 7...</td>\n",
       "      <td>0.279509</td>\n",
       "    </tr>\n",
       "    <tr>\n",
       "      <th>2</th>\n",
       "      <td>130.0</td>\n",
       "      <td>750.0</td>\n",
       "      <td>Planalto</td>\n",
       "      <td>2.500</td>\n",
       "      <td>10097.252</td>\n",
       "      <td>POLYGON ((609676.978 7807928.199, 609688.638 7...</td>\n",
       "      <td>2.499592</td>\n",
       "    </tr>\n",
       "    <tr>\n",
       "      <th>3</th>\n",
       "      <td>447.0</td>\n",
       "      <td>1456.0</td>\n",
       "      <td>Vila Primeiro de Maio</td>\n",
       "      <td>0.164</td>\n",
       "      <td>1955.317</td>\n",
       "      <td>POLYGON ((612124.984 7803221.641, 612090.731 7...</td>\n",
       "      <td>0.163855</td>\n",
       "    </tr>\n",
       "    <tr>\n",
       "      <th>4</th>\n",
       "      <td>200.0</td>\n",
       "      <td>827.0</td>\n",
       "      <td>Trevo</td>\n",
       "      <td>1.916</td>\n",
       "      <td>8063.288</td>\n",
       "      <td>POLYGON ((603126.658 7806926.049, 603127.903 7...</td>\n",
       "      <td>1.915798</td>\n",
       "    </tr>\n",
       "  </tbody>\n",
       "</table>\n",
       "</div>"
      ],
      "text/plain": [
       "      ID  CODIGO                   NOME  AREA_KM2  PERIMETR_M  \\\n",
       "0  207.0   834.0      Jardim Felicidade     0.811    4484.895   \n",
       "1  177.0   802.0               Solimões     0.280    2459.134   \n",
       "2  130.0   750.0               Planalto     2.500   10097.252   \n",
       "3  447.0  1456.0  Vila Primeiro de Maio     0.164    1955.317   \n",
       "4  200.0   827.0                  Trevo     1.916    8063.288   \n",
       "\n",
       "                                            geometry   area_gp  \n",
       "0  POLYGON ((611893.011 7806896.643, 612006.128 7...  0.811167  \n",
       "1  POLYGON ((612143.299 7807875.069, 612149.121 7...  0.279509  \n",
       "2  POLYGON ((609676.978 7807928.199, 609688.638 7...  2.499592  \n",
       "3  POLYGON ((612124.984 7803221.641, 612090.731 7...  0.163855  \n",
       "4  POLYGON ((603126.658 7806926.049, 603127.903 7...  1.915798  "
      ]
     },
     "execution_count": 67,
     "metadata": {},
     "output_type": "execute_result"
    }
   ],
   "source": [
    "bairros.head()"
   ]
  },
  {
   "cell_type": "markdown",
   "metadata": {},
   "source": [
    "## Medidas - Perímetro\n",
    "\n",
    "Método: length"
   ]
  },
  {
   "cell_type": "code",
   "execution_count": 68,
   "metadata": {
    "tags": []
   },
   "outputs": [
    {
     "data": {
      "text/html": [
       "<div>\n",
       "<style scoped>\n",
       "    .dataframe tbody tr th:only-of-type {\n",
       "        vertical-align: middle;\n",
       "    }\n",
       "\n",
       "    .dataframe tbody tr th {\n",
       "        vertical-align: top;\n",
       "    }\n",
       "\n",
       "    .dataframe thead th {\n",
       "        text-align: right;\n",
       "    }\n",
       "</style>\n",
       "<table border=\"1\" class=\"dataframe\">\n",
       "  <thead>\n",
       "    <tr style=\"text-align: right;\">\n",
       "      <th></th>\n",
       "      <th>ID</th>\n",
       "      <th>CODIGO</th>\n",
       "      <th>NOME</th>\n",
       "      <th>AREA_KM2</th>\n",
       "      <th>PERIMETR_M</th>\n",
       "      <th>geometry</th>\n",
       "      <th>area_gp</th>\n",
       "      <th>peri_gp</th>\n",
       "    </tr>\n",
       "  </thead>\n",
       "  <tbody>\n",
       "    <tr>\n",
       "      <th>0</th>\n",
       "      <td>207.0</td>\n",
       "      <td>834.0</td>\n",
       "      <td>Jardim Felicidade</td>\n",
       "      <td>0.811</td>\n",
       "      <td>4484.895</td>\n",
       "      <td>POLYGON ((611893.011 7806896.643, 612006.128 7...</td>\n",
       "      <td>0.811167</td>\n",
       "      <td>4484.894690</td>\n",
       "    </tr>\n",
       "    <tr>\n",
       "      <th>1</th>\n",
       "      <td>177.0</td>\n",
       "      <td>802.0</td>\n",
       "      <td>Solimões</td>\n",
       "      <td>0.280</td>\n",
       "      <td>2459.134</td>\n",
       "      <td>POLYGON ((612143.299 7807875.069, 612149.121 7...</td>\n",
       "      <td>0.279509</td>\n",
       "      <td>2459.134235</td>\n",
       "    </tr>\n",
       "    <tr>\n",
       "      <th>2</th>\n",
       "      <td>130.0</td>\n",
       "      <td>750.0</td>\n",
       "      <td>Planalto</td>\n",
       "      <td>2.500</td>\n",
       "      <td>10097.252</td>\n",
       "      <td>POLYGON ((609676.978 7807928.199, 609688.638 7...</td>\n",
       "      <td>2.499592</td>\n",
       "      <td>10097.252360</td>\n",
       "    </tr>\n",
       "    <tr>\n",
       "      <th>3</th>\n",
       "      <td>447.0</td>\n",
       "      <td>1456.0</td>\n",
       "      <td>Vila Primeiro de Maio</td>\n",
       "      <td>0.164</td>\n",
       "      <td>1955.317</td>\n",
       "      <td>POLYGON ((612124.984 7803221.641, 612090.731 7...</td>\n",
       "      <td>0.163855</td>\n",
       "      <td>1955.317299</td>\n",
       "    </tr>\n",
       "    <tr>\n",
       "      <th>4</th>\n",
       "      <td>200.0</td>\n",
       "      <td>827.0</td>\n",
       "      <td>Trevo</td>\n",
       "      <td>1.916</td>\n",
       "      <td>8063.288</td>\n",
       "      <td>POLYGON ((603126.658 7806926.049, 603127.903 7...</td>\n",
       "      <td>1.915798</td>\n",
       "      <td>8063.287757</td>\n",
       "    </tr>\n",
       "  </tbody>\n",
       "</table>\n",
       "</div>"
      ],
      "text/plain": [
       "      ID  CODIGO                   NOME  AREA_KM2  PERIMETR_M  \\\n",
       "0  207.0   834.0      Jardim Felicidade     0.811    4484.895   \n",
       "1  177.0   802.0               Solimões     0.280    2459.134   \n",
       "2  130.0   750.0               Planalto     2.500   10097.252   \n",
       "3  447.0  1456.0  Vila Primeiro de Maio     0.164    1955.317   \n",
       "4  200.0   827.0                  Trevo     1.916    8063.288   \n",
       "\n",
       "                                            geometry   area_gp       peri_gp  \n",
       "0  POLYGON ((611893.011 7806896.643, 612006.128 7...  0.811167   4484.894690  \n",
       "1  POLYGON ((612143.299 7807875.069, 612149.121 7...  0.279509   2459.134235  \n",
       "2  POLYGON ((609676.978 7807928.199, 609688.638 7...  2.499592  10097.252360  \n",
       "3  POLYGON ((612124.984 7803221.641, 612090.731 7...  0.163855   1955.317299  \n",
       "4  POLYGON ((603126.658 7806926.049, 603127.903 7...  1.915798   8063.287757  "
      ]
     },
     "execution_count": 68,
     "metadata": {},
     "output_type": "execute_result"
    }
   ],
   "source": [
    "bairros['peri_gp'] = bairros['geometry'].length\n",
    "bairros.head()"
   ]
  },
  {
   "cell_type": "markdown",
   "metadata": {},
   "source": [
    "## Medidas - Centroide\n",
    "\n",
    "Método: centroid"
   ]
  },
  {
   "cell_type": "code",
   "execution_count": 69,
   "metadata": {
    "tags": []
   },
   "outputs": [
    {
     "data": {
      "text/html": [
       "<div>\n",
       "<style scoped>\n",
       "    .dataframe tbody tr th:only-of-type {\n",
       "        vertical-align: middle;\n",
       "    }\n",
       "\n",
       "    .dataframe tbody tr th {\n",
       "        vertical-align: top;\n",
       "    }\n",
       "\n",
       "    .dataframe thead th {\n",
       "        text-align: right;\n",
       "    }\n",
       "</style>\n",
       "<table border=\"1\" class=\"dataframe\">\n",
       "  <thead>\n",
       "    <tr style=\"text-align: right;\">\n",
       "      <th></th>\n",
       "      <th>ID</th>\n",
       "      <th>CODIGO</th>\n",
       "      <th>NOME</th>\n",
       "      <th>AREA_KM2</th>\n",
       "      <th>PERIMETR_M</th>\n",
       "      <th>geometry</th>\n",
       "      <th>area_gp</th>\n",
       "      <th>peri_gp</th>\n",
       "      <th>centroide</th>\n",
       "    </tr>\n",
       "  </thead>\n",
       "  <tbody>\n",
       "    <tr>\n",
       "      <th>0</th>\n",
       "      <td>207.0</td>\n",
       "      <td>834.0</td>\n",
       "      <td>Jardim Felicidade</td>\n",
       "      <td>0.811</td>\n",
       "      <td>4484.895</td>\n",
       "      <td>POLYGON ((611893.011 7806896.643, 612006.128 7...</td>\n",
       "      <td>0.811167</td>\n",
       "      <td>4484.894690</td>\n",
       "      <td>POINT (612296.309 7807187.614)</td>\n",
       "    </tr>\n",
       "    <tr>\n",
       "      <th>1</th>\n",
       "      <td>177.0</td>\n",
       "      <td>802.0</td>\n",
       "      <td>Solimões</td>\n",
       "      <td>0.280</td>\n",
       "      <td>2459.134</td>\n",
       "      <td>POLYGON ((612143.299 7807875.069, 612149.121 7...</td>\n",
       "      <td>0.279509</td>\n",
       "      <td>2459.134235</td>\n",
       "      <td>POINT (612462.600 7807826.143)</td>\n",
       "    </tr>\n",
       "    <tr>\n",
       "      <th>2</th>\n",
       "      <td>130.0</td>\n",
       "      <td>750.0</td>\n",
       "      <td>Planalto</td>\n",
       "      <td>2.500</td>\n",
       "      <td>10097.252</td>\n",
       "      <td>POLYGON ((609676.978 7807928.199, 609688.638 7...</td>\n",
       "      <td>2.499592</td>\n",
       "      <td>10097.252360</td>\n",
       "      <td>POINT (610026.209 7806574.613)</td>\n",
       "    </tr>\n",
       "    <tr>\n",
       "      <th>3</th>\n",
       "      <td>447.0</td>\n",
       "      <td>1456.0</td>\n",
       "      <td>Vila Primeiro de Maio</td>\n",
       "      <td>0.164</td>\n",
       "      <td>1955.317</td>\n",
       "      <td>POLYGON ((612124.984 7803221.641, 612090.731 7...</td>\n",
       "      <td>0.163855</td>\n",
       "      <td>1955.317299</td>\n",
       "      <td>POINT (611918.829 7803480.121)</td>\n",
       "    </tr>\n",
       "    <tr>\n",
       "      <th>4</th>\n",
       "      <td>200.0</td>\n",
       "      <td>827.0</td>\n",
       "      <td>Trevo</td>\n",
       "      <td>1.916</td>\n",
       "      <td>8063.288</td>\n",
       "      <td>POLYGON ((603126.658 7806926.049, 603127.903 7...</td>\n",
       "      <td>1.915798</td>\n",
       "      <td>8063.287757</td>\n",
       "      <td>POINT (603729.938 7806483.275)</td>\n",
       "    </tr>\n",
       "  </tbody>\n",
       "</table>\n",
       "</div>"
      ],
      "text/plain": [
       "      ID  CODIGO                   NOME  AREA_KM2  PERIMETR_M  \\\n",
       "0  207.0   834.0      Jardim Felicidade     0.811    4484.895   \n",
       "1  177.0   802.0               Solimões     0.280    2459.134   \n",
       "2  130.0   750.0               Planalto     2.500   10097.252   \n",
       "3  447.0  1456.0  Vila Primeiro de Maio     0.164    1955.317   \n",
       "4  200.0   827.0                  Trevo     1.916    8063.288   \n",
       "\n",
       "                                            geometry   area_gp       peri_gp  \\\n",
       "0  POLYGON ((611893.011 7806896.643, 612006.128 7...  0.811167   4484.894690   \n",
       "1  POLYGON ((612143.299 7807875.069, 612149.121 7...  0.279509   2459.134235   \n",
       "2  POLYGON ((609676.978 7807928.199, 609688.638 7...  2.499592  10097.252360   \n",
       "3  POLYGON ((612124.984 7803221.641, 612090.731 7...  0.163855   1955.317299   \n",
       "4  POLYGON ((603126.658 7806926.049, 603127.903 7...  1.915798   8063.287757   \n",
       "\n",
       "                        centroide  \n",
       "0  POINT (612296.309 7807187.614)  \n",
       "1  POINT (612462.600 7807826.143)  \n",
       "2  POINT (610026.209 7806574.613)  \n",
       "3  POINT (611918.829 7803480.121)  \n",
       "4  POINT (603729.938 7806483.275)  "
      ]
     },
     "execution_count": 69,
     "metadata": {},
     "output_type": "execute_result"
    }
   ],
   "source": [
    "bairros['centroide'] = bairros['geometry'].centroid\n",
    "bairros.head()"
   ]
  },
  {
   "cell_type": "code",
   "execution_count": 70,
   "metadata": {
    "tags": []
   },
   "outputs": [
    {
     "data": {
      "text/plain": [
       "<Axes: >"
      ]
     },
     "execution_count": 70,
     "metadata": {},
     "output_type": "execute_result"
    },
    {
     "data": {
      "image/png": "[encoded data removed]",
      "text/plain": [
       "<Figure size 1500x1500 with 1 Axes>"
      ]
     },
     "metadata": {},
     "output_type": "display_data"
    }
   ],
   "source": [
    "bairros['centroide'].plot(figsize=(15,15))"
   ]
  },
  {
   "cell_type": "code",
   "execution_count": 71,
   "metadata": {
    "tags": []
   },
   "outputs": [],
   "source": [
    "limite = gpd.read_file(\"data/LIMITE_MUNICIPIO.shp\")"
   ]
  },
  {
   "cell_type": "code",
   "execution_count": 72,
   "metadata": {
    "tags": []
   },
   "outputs": [
    {
     "data": {
      "text/plain": [
       "<Axes: >"
      ]
     },
     "execution_count": 72,
     "metadata": {},
     "output_type": "execute_result"
    },
    {
     "data": {
      "image/png": "[encoded data removed]",
      "text/plain": [
       "<Figure size 640x480 with 1 Axes>"
      ]
     },
     "metadata": {},
     "output_type": "display_data"
    }
   ],
   "source": [
    "limite.plot()"
   ]
  },
  {
   "cell_type": "code",
   "execution_count": 73,
   "metadata": {
    "tags": []
   },
   "outputs": [],
   "source": [
    "centro_bh=limite.centroid\n",
    "centro_bh = centro_bh.iloc[0]"
   ]
  },
  {
   "cell_type": "code",
   "execution_count": 74,
   "metadata": {
    "tags": []
   },
   "outputs": [
    {
     "data": {
      "text/plain": [
       "shapely.geometry.point.Point"
      ]
     },
     "execution_count": 74,
     "metadata": {},
     "output_type": "execute_result"
    }
   ],
   "source": [
    "type(centro_bh)"
   ]
  },
  {
   "cell_type": "markdown",
   "metadata": {
    "tags": []
   },
   "source": [
    "## Medidas - Distância Euclidiana\n",
    "\n",
    "Método: distance"
   ]
  },
  {
   "cell_type": "code",
   "execution_count": 75,
   "metadata": {
    "tags": []
   },
   "outputs": [
    {
     "data": {
      "text/html": [
       "<div>\n",
       "<style scoped>\n",
       "    .dataframe tbody tr th:only-of-type {\n",
       "        vertical-align: middle;\n",
       "    }\n",
       "\n",
       "    .dataframe tbody tr th {\n",
       "        vertical-align: top;\n",
       "    }\n",
       "\n",
       "    .dataframe thead th {\n",
       "        text-align: right;\n",
       "    }\n",
       "</style>\n",
       "<table border=\"1\" class=\"dataframe\">\n",
       "  <thead>\n",
       "    <tr style=\"text-align: right;\">\n",
       "      <th></th>\n",
       "      <th>ID</th>\n",
       "      <th>CODIGO</th>\n",
       "      <th>NOME</th>\n",
       "      <th>AREA_KM2</th>\n",
       "      <th>PERIMETR_M</th>\n",
       "      <th>geometry</th>\n",
       "      <th>area_gp</th>\n",
       "      <th>peri_gp</th>\n",
       "      <th>centroide</th>\n",
       "      <th>distancia</th>\n",
       "    </tr>\n",
       "  </thead>\n",
       "  <tbody>\n",
       "    <tr>\n",
       "      <th>0</th>\n",
       "      <td>207.0</td>\n",
       "      <td>834.0</td>\n",
       "      <td>Jardim Felicidade</td>\n",
       "      <td>0.811</td>\n",
       "      <td>4484.895</td>\n",
       "      <td>POLYGON ((611893.011 7806896.643, 612006.128 7...</td>\n",
       "      <td>0.811167</td>\n",
       "      <td>4484.894690</td>\n",
       "      <td>POINT (612296.309 7807187.614)</td>\n",
       "      <td>8919.753945</td>\n",
       "    </tr>\n",
       "    <tr>\n",
       "      <th>1</th>\n",
       "      <td>177.0</td>\n",
       "      <td>802.0</td>\n",
       "      <td>Solimões</td>\n",
       "      <td>0.280</td>\n",
       "      <td>2459.134</td>\n",
       "      <td>POLYGON ((612143.299 7807875.069, 612149.121 7...</td>\n",
       "      <td>0.279509</td>\n",
       "      <td>2459.134235</td>\n",
       "      <td>POINT (612462.600 7807826.143)</td>\n",
       "      <td>9573.553348</td>\n",
       "    </tr>\n",
       "    <tr>\n",
       "      <th>2</th>\n",
       "      <td>130.0</td>\n",
       "      <td>750.0</td>\n",
       "      <td>Planalto</td>\n",
       "      <td>2.500</td>\n",
       "      <td>10097.252</td>\n",
       "      <td>POLYGON ((609676.978 7807928.199, 609688.638 7...</td>\n",
       "      <td>2.499592</td>\n",
       "      <td>10097.252360</td>\n",
       "      <td>POINT (610026.209 7806574.613)</td>\n",
       "      <td>7708.142524</td>\n",
       "    </tr>\n",
       "    <tr>\n",
       "      <th>3</th>\n",
       "      <td>447.0</td>\n",
       "      <td>1456.0</td>\n",
       "      <td>Vila Primeiro de Maio</td>\n",
       "      <td>0.164</td>\n",
       "      <td>1955.317</td>\n",
       "      <td>POLYGON ((612124.984 7803221.641, 612090.731 7...</td>\n",
       "      <td>0.163855</td>\n",
       "      <td>1955.317299</td>\n",
       "      <td>POINT (611918.829 7803480.121)</td>\n",
       "      <td>5459.933795</td>\n",
       "    </tr>\n",
       "    <tr>\n",
       "      <th>4</th>\n",
       "      <td>200.0</td>\n",
       "      <td>827.0</td>\n",
       "      <td>Trevo</td>\n",
       "      <td>1.916</td>\n",
       "      <td>8063.288</td>\n",
       "      <td>POLYGON ((603126.658 7806926.049, 603127.903 7...</td>\n",
       "      <td>1.915798</td>\n",
       "      <td>8063.287757</td>\n",
       "      <td>POINT (603729.938 7806483.275)</td>\n",
       "      <td>9112.833253</td>\n",
       "    </tr>\n",
       "  </tbody>\n",
       "</table>\n",
       "</div>"
      ],
      "text/plain": [
       "      ID  CODIGO                   NOME  AREA_KM2  PERIMETR_M  \\\n",
       "0  207.0   834.0      Jardim Felicidade     0.811    4484.895   \n",
       "1  177.0   802.0               Solimões     0.280    2459.134   \n",
       "2  130.0   750.0               Planalto     2.500   10097.252   \n",
       "3  447.0  1456.0  Vila Primeiro de Maio     0.164    1955.317   \n",
       "4  200.0   827.0                  Trevo     1.916    8063.288   \n",
       "\n",
       "                                            geometry   area_gp       peri_gp  \\\n",
       "0  POLYGON ((611893.011 7806896.643, 612006.128 7...  0.811167   4484.894690   \n",
       "1  POLYGON ((612143.299 7807875.069, 612149.121 7...  0.279509   2459.134235   \n",
       "2  POLYGON ((609676.978 7807928.199, 609688.638 7...  2.499592  10097.252360   \n",
       "3  POLYGON ((612124.984 7803221.641, 612090.731 7...  0.163855   1955.317299   \n",
       "4  POLYGON ((603126.658 7806926.049, 603127.903 7...  1.915798   8063.287757   \n",
       "\n",
       "                        centroide    distancia  \n",
       "0  POINT (612296.309 7807187.614)  8919.753945  \n",
       "1  POINT (612462.600 7807826.143)  9573.553348  \n",
       "2  POINT (610026.209 7806574.613)  7708.142524  \n",
       "3  POINT (611918.829 7803480.121)  5459.933795  \n",
       "4  POINT (603729.938 7806483.275)  9112.833253  "
      ]
     },
     "execution_count": 75,
     "metadata": {},
     "output_type": "execute_result"
    }
   ],
   "source": [
    "bairros[\"distancia\"] = bairros[\"centroide\"].distance(centro_bh)\n",
    "bairros.head()"
   ]
  },
  {
   "cell_type": "code",
   "execution_count": 76,
   "metadata": {
    "tags": []
   },
   "outputs": [
    {
     "data": {
      "text/plain": [
       "7170.961984729113"
      ]
     },
     "execution_count": 76,
     "metadata": {},
     "output_type": "execute_result"
    }
   ],
   "source": [
    "bairros[\"distancia\"].mean()"
   ]
  },
  {
   "cell_type": "code",
   "execution_count": 77,
   "metadata": {
    "tags": []
   },
   "outputs": [
    {
     "data": {
      "text/plain": [
       "15198.37754025002"
      ]
     },
     "execution_count": 77,
     "metadata": {},
     "output_type": "execute_result"
    }
   ],
   "source": [
    "bairros[\"distancia\"].max()"
   ]
  },
  {
   "cell_type": "code",
   "execution_count": 78,
   "metadata": {
    "tags": []
   },
   "outputs": [
    {
     "data": {
      "text/plain": [
       "281.24222340987563"
      ]
     },
     "execution_count": 78,
     "metadata": {},
     "output_type": "execute_result"
    }
   ],
   "source": [
    "bairros[\"distancia\"].min()"
   ]
  },
  {
   "cell_type": "code",
   "execution_count": null,
   "metadata": {},
   "outputs": [],
   "source": []
  }
 ],
 "metadata": {
  "kernelspec": {
   "display_name": "Python 3 (ipykernel)",
   "language": "python",
   "name": "python3"
  },
  "language_info": {
   "codemirror_mode": {
    "name": "ipython",
    "version": 3
   },
   "file_extension": ".py",
   "mimetype": "text/x-python",
   "name": "python",
   "nbconvert_exporter": "python",
   "pygments_lexer": "ipython3",
   "version": "3.10.10"
  }
 },
 "nbformat": 4,
 "nbformat_minor": 4
}
