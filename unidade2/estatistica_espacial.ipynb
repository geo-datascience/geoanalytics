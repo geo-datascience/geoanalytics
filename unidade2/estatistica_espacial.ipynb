{
 "cells": [
  {
   "cell_type": "markdown",
   "id": "7a0eca6f-1200-44dc-b409-ded67e283f78",
   "metadata": {},
   "source": [
    "# Estatística Espacial\n",
    "\n",
    "## Medidas de Tendência Central\n",
    "\n",
    "### Centro Médio"
   ]
  },
  {
   "cell_type": "code",
   "execution_count": null,
   "id": "6798208f-2f1b-46a5-9086-03956cd59633",
   "metadata": {
    "tags": []
   },
   "outputs": [],
   "source": [
    "%matplotlib inline\n",
    "import geopandas as gpd\n",
    "centro_saude = gpd.read_file(\"data/CENTRO_SAUDE.shp\")"
   ]
  },
  {
   "cell_type": "code",
   "execution_count": null,
   "id": "91ce8aaf-91b8-4d98-b8b9-97e89462d47a",
   "metadata": {},
   "outputs": [],
   "source": []
  }
 ],
 "metadata": {
  "kernelspec": {
   "display_name": "Python 3 (ipykernel)",
   "language": "python",
   "name": "python3"
  },
  "language_info": {
   "codemirror_mode": {
    "name": "ipython",
    "version": 3
   },
   "file_extension": ".py",
   "mimetype": "text/x-python",
   "name": "python",
   "nbconvert_exporter": "python",
   "pygments_lexer": "ipython3",
   "version": "3.10.10"
  }
 },
 "nbformat": 4,
 "nbformat_minor": 5
}
